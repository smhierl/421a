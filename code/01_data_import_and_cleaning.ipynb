{
 "cells": [
  {
   "cell_type": "markdown",
   "id": "86821b1a",
   "metadata": {},
   "source": [
    "# Data Import and Cleaning"
   ]
  },
  {
   "cell_type": "markdown",
   "id": "a2926bf8",
   "metadata": {},
   "source": [
    "#### Import libraries"
   ]
  },
  {
   "cell_type": "code",
   "execution_count": 43,
   "id": "db51a8c2",
   "metadata": {},
   "outputs": [],
   "source": [
    "import pandas as pd\n",
    "import numpy as np\n",
    "import matplotlib.pyplot as plt"
   ]
  },
  {
   "cell_type": "markdown",
   "id": "efd9f8cb",
   "metadata": {},
   "source": [
    "## Neighborhood Indicators"
   ]
  },
  {
   "cell_type": "markdown",
   "id": "d32019d8",
   "metadata": {},
   "source": [
    "https://furmancenter.org/coredata/userguide/data-downloads"
   ]
  },
  {
   "cell_type": "markdown",
   "id": "44c397ae",
   "metadata": {},
   "source": [
    "#### Import and Review Data"
   ]
  },
  {
   "cell_type": "code",
   "execution_count": 125,
   "id": "c1cf176d",
   "metadata": {},
   "outputs": [],
   "source": [
    "neighborhood=pd.read_csv('../data/Neighorhood_Indicators_CoreDataDownload_2020-06-30.csv')"
   ]
  },
  {
   "cell_type": "code",
   "execution_count": 45,
   "id": "1df73840",
   "metadata": {
    "scrolled": true
   },
   "outputs": [
    {
     "data": {
      "text/html": [
       "<div>\n",
       "<style scoped>\n",
       "    .dataframe tbody tr th:only-of-type {\n",
       "        vertical-align: middle;\n",
       "    }\n",
       "\n",
       "    .dataframe tbody tr th {\n",
       "        vertical-align: top;\n",
       "    }\n",
       "\n",
       "    .dataframe thead th {\n",
       "        text-align: right;\n",
       "    }\n",
       "</style>\n",
       "<table border=\"1\" class=\"dataframe\">\n",
       "  <thead>\n",
       "    <tr style=\"text-align: right;\">\n",
       "      <th></th>\n",
       "      <th>Region ID</th>\n",
       "      <th>Region Display</th>\n",
       "      <th>Region Name</th>\n",
       "      <th>Region Type</th>\n",
       "      <th>Year</th>\n",
       "      <th>adlt_incar_rt</th>\n",
       "      <th>afford_le030_rct</th>\n",
       "      <th>afford_le080_rct</th>\n",
       "      <th>afford_le120_rct</th>\n",
       "      <th>crime_all_rt</th>\n",
       "      <th>...</th>\n",
       "      <th>unit_occ_own_pct</th>\n",
       "      <th>unit_occ_rent_sevcrowd_pct</th>\n",
       "      <th>unit_vac_rent_pct</th>\n",
       "      <th>units_cert</th>\n",
       "      <th>volume_1f</th>\n",
       "      <th>volume_4f</th>\n",
       "      <th>volume_al</th>\n",
       "      <th>volume_cn</th>\n",
       "      <th>volume_ot</th>\n",
       "      <th>voucher_pct</th>\n",
       "    </tr>\n",
       "  </thead>\n",
       "  <tbody>\n",
       "    <tr>\n",
       "      <th>0</th>\n",
       "      <td>606</td>\n",
       "      <td>NYC</td>\n",
       "      <td>New York City</td>\n",
       "      <td>City</td>\n",
       "      <td>2000</td>\n",
       "      <td>1340.7</td>\n",
       "      <td>NaN</td>\n",
       "      <td>NaN</td>\n",
       "      <td>NaN</td>\n",
       "      <td>23.1</td>\n",
       "      <td>...</td>\n",
       "      <td>30.2%</td>\n",
       "      <td>NaN</td>\n",
       "      <td>NaN</td>\n",
       "      <td>13603.0</td>\n",
       "      <td>13586.0</td>\n",
       "      <td>13702.0</td>\n",
       "      <td>33454.0</td>\n",
       "      <td>4842.0</td>\n",
       "      <td>1324.0</td>\n",
       "      <td>NaN</td>\n",
       "    </tr>\n",
       "    <tr>\n",
       "      <th>1</th>\n",
       "      <td>606</td>\n",
       "      <td>NYC</td>\n",
       "      <td>New York City</td>\n",
       "      <td>City</td>\n",
       "      <td>2001</td>\n",
       "      <td>NaN</td>\n",
       "      <td>NaN</td>\n",
       "      <td>NaN</td>\n",
       "      <td>NaN</td>\n",
       "      <td>20.3</td>\n",
       "      <td>...</td>\n",
       "      <td>NaN</td>\n",
       "      <td>NaN</td>\n",
       "      <td>NaN</td>\n",
       "      <td>14289.0</td>\n",
       "      <td>13750.0</td>\n",
       "      <td>14158.0</td>\n",
       "      <td>34564.0</td>\n",
       "      <td>5281.0</td>\n",
       "      <td>1375.0</td>\n",
       "      <td>NaN</td>\n",
       "    </tr>\n",
       "    <tr>\n",
       "      <th>2</th>\n",
       "      <td>606</td>\n",
       "      <td>NYC</td>\n",
       "      <td>New York City</td>\n",
       "      <td>City</td>\n",
       "      <td>2002</td>\n",
       "      <td>NaN</td>\n",
       "      <td>NaN</td>\n",
       "      <td>NaN</td>\n",
       "      <td>NaN</td>\n",
       "      <td>19.3</td>\n",
       "      <td>...</td>\n",
       "      <td>NaN</td>\n",
       "      <td>NaN</td>\n",
       "      <td>NaN</td>\n",
       "      <td>15024.0</td>\n",
       "      <td>16917.0</td>\n",
       "      <td>17561.0</td>\n",
       "      <td>44909.0</td>\n",
       "      <td>8430.0</td>\n",
       "      <td>2001.0</td>\n",
       "      <td>NaN</td>\n",
       "    </tr>\n",
       "  </tbody>\n",
       "</table>\n",
       "<p>3 rows × 121 columns</p>\n",
       "</div>"
      ],
      "text/plain": [
       "   Region ID Region Display    Region Name Region Type  Year  adlt_incar_rt  \\\n",
       "0        606            NYC  New York City        City  2000         1340.7   \n",
       "1        606            NYC  New York City        City  2001            NaN   \n",
       "2        606            NYC  New York City        City  2002            NaN   \n",
       "\n",
       "  afford_le030_rct afford_le080_rct afford_le120_rct  crime_all_rt  ...  \\\n",
       "0              NaN              NaN              NaN          23.1  ...   \n",
       "1              NaN              NaN              NaN          20.3  ...   \n",
       "2              NaN              NaN              NaN          19.3  ...   \n",
       "\n",
       "   unit_occ_own_pct  unit_occ_rent_sevcrowd_pct unit_vac_rent_pct units_cert  \\\n",
       "0             30.2%                         NaN               NaN    13603.0   \n",
       "1               NaN                         NaN               NaN    14289.0   \n",
       "2               NaN                         NaN               NaN    15024.0   \n",
       "\n",
       "  volume_1f volume_4f volume_al volume_cn volume_ot voucher_pct  \n",
       "0   13586.0   13702.0   33454.0    4842.0    1324.0         NaN  \n",
       "1   13750.0   14158.0   34564.0    5281.0    1375.0         NaN  \n",
       "2   16917.0   17561.0   44909.0    8430.0    2001.0         NaN  \n",
       "\n",
       "[3 rows x 121 columns]"
      ]
     },
     "execution_count": 45,
     "metadata": {},
     "output_type": "execute_result"
    }
   ],
   "source": [
    "neighborhood.head(3)"
   ]
  },
  {
   "cell_type": "code",
   "execution_count": 46,
   "id": "731cf476",
   "metadata": {},
   "outputs": [
    {
     "data": {
      "text/plain": [
       "(3019, 121)"
      ]
     },
     "execution_count": 46,
     "metadata": {},
     "output_type": "execute_result"
    }
   ],
   "source": [
    "neighborhood.shape"
   ]
  },
  {
   "cell_type": "code",
   "execution_count": 47,
   "id": "76158b8a",
   "metadata": {
    "scrolled": true
   },
   "outputs": [
    {
     "name": "stdout",
     "output_type": "stream",
     "text": [
      "Region ID\n",
      "Region Display\n",
      "Region Name\n",
      "Region Type\n",
      "Year\n",
      "adlt_incar_rt\n",
      "afford_le030_rct\n",
      "afford_le080_rct\n",
      "afford_le120_rct\n",
      "crime_all_rt\n",
      "crime_prop_rt\n",
      "crime_viol_rt\n",
      "gross_rent_0_1beds\n",
      "gross_rent_2_3beds\n",
      "hh_alone_pct\n",
      "hh_inc_med_adj\n",
      "hh_inc_own_med_adj\n",
      "hh_inc_rent_med_adj\n",
      "hh_u18_pct\n",
      "hp_first_fhava_pct\n",
      "hp_first_hi_pct\n",
      "hp_first_orig\n",
      "hp_first_orig_lmi_app_pct\n",
      "hp_first_orig_lmi_nbhd_pct\n",
      "hp_first_orig_rt\n",
      "hpi_1f\n",
      "hpi_4f\n",
      "hpi_al\n",
      "hpi_cn\n",
      "hpi_ot\n",
      "income_diversity_ratio\n",
      "lp_all\n",
      "lp_fam14condo_initial\n",
      "lp_fam14condo_rate\n",
      "lp_fam14condo_repeat\n",
      "med_r_1f\n",
      "med_r_4f\n",
      "med_r_cn\n",
      "med_r_ot\n",
      "nb_permit_res_units\n",
      "pct_prof_ela\n",
      "pct_prof_math\n",
      "pfn_fam14condo\n",
      "pfn_fam14condo_rate\n",
      "pop_65p_pct\n",
      "pop_bornstate_pct\n",
      "pop_commute_carfree_pct\n",
      "pop_commute_time_avg\n",
      "pop_disabled_pct\n",
      "pop_discon_youth_pct\n",
      "pop_edu_collp_pct\n",
      "pop_edu_nohs_pct\n",
      "pop_foreign_pct\n",
      "pop_num\n",
      "pop_pov_65p_pct\n",
      "pop_pov_pct\n",
      "pop_pov_u18_pct\n",
      "pop_race_asian_pct\n",
      "pop_race_black_pct\n",
      "pop_race_div_idx\n",
      "pop_race_hisp_pct\n",
      "pop_race_white_pct\n",
      "pop16_laborforce_pct\n",
      "pop16_unemp_pct\n",
      "population_density\n",
      "priv_evic_amt_sought_med_adj\n",
      "priv_evic_filing_rt\n",
      "priv_evic_filings\n",
      "prox_park_pct\n",
      "prox_subway_pct\n",
      "rburden_mod_ami_81_120\n",
      "rburden_mod_ami_le80\n",
      "rburden_sev_ami_81_120\n",
      "rburden_sev_ami_le80\n",
      "refi_hi_pct\n",
      "refi_orig\n",
      "refi_orig_rt\n",
      "rent_asking_med\n",
      "rent_burden_med\n",
      "rent_burden_mod_pct\n",
      "rent_burden_sev_pct\n",
      "rent_gross_med_adj\n",
      "rent_gross_recent_med_adj\n",
      "rent_pct_nycha\n",
      "reo\n",
      "serious_viol_rate\n",
      "shd_420c_props\n",
      "shd_420c_units\n",
      "shd_421a_props\n",
      "shd_421a_units\n",
      "shd_all_sub_props\n",
      "shd_all_sub_units\n",
      "shd_ex_2020_2025_props\n",
      "shd_ex_2020_2025_units\n",
      "shd_ex_2026_2035_props\n",
      "shd_ex_2026_2035_units\n",
      "shd_ex_2036_later_props\n",
      "shd_ex_2036_later_units\n",
      "shd_hud_finins_props\n",
      "shd_hud_finins_units\n",
      "shd_hud_pbrap_props\n",
      "shd_hud_pbrap_units\n",
      "shd_lihtc_props\n",
      "shd_lihtc_units\n",
      "shd_ml_props\n",
      "shd_ml_units\n",
      "shd_nyc_prog_props\n",
      "shd_ph_props\n",
      "shd_ph_units\n",
      "total_viol_rate\n",
      "unit_num\n",
      "unit_occ_own_pct\n",
      "unit_occ_rent_sevcrowd_pct\n",
      "unit_vac_rent_pct\n",
      "units_cert\n",
      "volume_1f\n",
      "volume_4f\n",
      "volume_al\n",
      "volume_cn\n",
      "volume_ot\n",
      "voucher_pct\n"
     ]
    }
   ],
   "source": [
    "for col in neighborhood.columns:\n",
    "    print(col)"
   ]
  },
  {
   "cell_type": "markdown",
   "id": "0d79c435",
   "metadata": {},
   "source": [
    "#### Reformat Data Types"
   ]
  },
  {
   "cell_type": "code",
   "execution_count": 48,
   "id": "bd4b3d14",
   "metadata": {},
   "outputs": [],
   "source": [
    "# Function to transform string with numeric and decimal characters to float value (eliminating commas and other characters)\n",
    "def string_to_float(string):\n",
    "    rev_string=''\n",
    "    if type(string)==str:\n",
    "        for char in string:\n",
    "            if char in ['0','1','2','3','4','5','6','7','8','9','.']:\n",
    "                rev_string+=char\n",
    "        return float(rev_string)\n",
    "    else:\n",
    "        return float(string)"
   ]
  },
  {
   "cell_type": "code",
   "execution_count": 49,
   "id": "a3d68448",
   "metadata": {},
   "outputs": [
    {
     "data": {
      "text/plain": [
       "['Year',\n",
       " 'adlt_incar_rt',\n",
       " 'afford_le030_rct',\n",
       " 'afford_le080_rct',\n",
       " 'afford_le120_rct',\n",
       " 'crime_all_rt',\n",
       " 'crime_prop_rt',\n",
       " 'crime_viol_rt',\n",
       " 'gross_rent_0_1beds',\n",
       " 'gross_rent_2_3beds',\n",
       " 'hh_alone_pct',\n",
       " 'hh_inc_med_adj',\n",
       " 'hh_inc_own_med_adj',\n",
       " 'hh_inc_rent_med_adj',\n",
       " 'hh_u18_pct',\n",
       " 'hp_first_fhava_pct',\n",
       " 'hp_first_hi_pct',\n",
       " 'hp_first_orig',\n",
       " 'hp_first_orig_lmi_app_pct',\n",
       " 'hp_first_orig_lmi_nbhd_pct',\n",
       " 'hp_first_orig_rt',\n",
       " 'hpi_1f',\n",
       " 'hpi_4f',\n",
       " 'hpi_al',\n",
       " 'hpi_cn',\n",
       " 'hpi_ot',\n",
       " 'income_diversity_ratio',\n",
       " 'lp_all',\n",
       " 'lp_fam14condo_initial',\n",
       " 'lp_fam14condo_rate',\n",
       " 'lp_fam14condo_repeat',\n",
       " 'med_r_1f',\n",
       " 'med_r_4f',\n",
       " 'med_r_cn',\n",
       " 'med_r_ot',\n",
       " 'nb_permit_res_units',\n",
       " 'pct_prof_ela',\n",
       " 'pct_prof_math',\n",
       " 'pfn_fam14condo',\n",
       " 'pfn_fam14condo_rate',\n",
       " 'pop_65p_pct',\n",
       " 'pop_bornstate_pct',\n",
       " 'pop_commute_carfree_pct',\n",
       " 'pop_commute_time_avg',\n",
       " 'pop_disabled_pct',\n",
       " 'pop_discon_youth_pct',\n",
       " 'pop_edu_collp_pct',\n",
       " 'pop_edu_nohs_pct',\n",
       " 'pop_foreign_pct',\n",
       " 'pop_num',\n",
       " 'pop_pov_65p_pct',\n",
       " 'pop_pov_pct',\n",
       " 'pop_pov_u18_pct',\n",
       " 'pop_race_asian_pct',\n",
       " 'pop_race_black_pct',\n",
       " 'pop_race_div_idx',\n",
       " 'pop_race_hisp_pct',\n",
       " 'pop_race_white_pct',\n",
       " 'pop16_laborforce_pct',\n",
       " 'pop16_unemp_pct',\n",
       " 'population_density',\n",
       " 'priv_evic_amt_sought_med_adj',\n",
       " 'priv_evic_filing_rt',\n",
       " 'priv_evic_filings',\n",
       " 'prox_park_pct',\n",
       " 'prox_subway_pct',\n",
       " 'rburden_mod_ami_81_120',\n",
       " 'rburden_mod_ami_le80',\n",
       " 'rburden_sev_ami_81_120',\n",
       " 'rburden_sev_ami_le80',\n",
       " 'refi_hi_pct',\n",
       " 'refi_orig',\n",
       " 'refi_orig_rt',\n",
       " 'rent_asking_med',\n",
       " 'rent_burden_med',\n",
       " 'rent_burden_mod_pct',\n",
       " 'rent_burden_sev_pct',\n",
       " 'rent_gross_med_adj',\n",
       " 'rent_gross_recent_med_adj',\n",
       " 'rent_pct_nycha',\n",
       " 'reo',\n",
       " 'serious_viol_rate',\n",
       " 'shd_420c_props',\n",
       " 'shd_420c_units',\n",
       " 'shd_421a_props',\n",
       " 'shd_421a_units',\n",
       " 'shd_all_sub_props',\n",
       " 'shd_all_sub_units',\n",
       " 'shd_ex_2020_2025_props',\n",
       " 'shd_ex_2020_2025_units',\n",
       " 'shd_ex_2026_2035_props',\n",
       " 'shd_ex_2026_2035_units',\n",
       " 'shd_ex_2036_later_props',\n",
       " 'shd_ex_2036_later_units',\n",
       " 'shd_hud_finins_props',\n",
       " 'shd_hud_finins_units',\n",
       " 'shd_hud_pbrap_props',\n",
       " 'shd_hud_pbrap_units',\n",
       " 'shd_lihtc_props',\n",
       " 'shd_lihtc_units',\n",
       " 'shd_ml_props',\n",
       " 'shd_ml_units',\n",
       " 'shd_nyc_prog_props',\n",
       " 'shd_ph_props',\n",
       " 'shd_ph_units',\n",
       " 'total_viol_rate',\n",
       " 'unit_num',\n",
       " 'unit_occ_own_pct',\n",
       " 'unit_occ_rent_sevcrowd_pct',\n",
       " 'unit_vac_rent_pct',\n",
       " 'units_cert',\n",
       " 'volume_1f',\n",
       " 'volume_4f',\n",
       " 'volume_al',\n",
       " 'volume_cn',\n",
       " 'volume_ot',\n",
       " 'voucher_pct']"
      ]
     },
     "execution_count": 49,
     "metadata": {},
     "output_type": "execute_result"
    }
   ],
   "source": [
    "# Generate list of columns to be formated as float values\n",
    "float_columns=[col for col in neighborhood.columns if col not in ['Region ID','Region Display','Region Name','Region Type']]\n",
    "float_columns"
   ]
  },
  {
   "cell_type": "code",
   "execution_count": 50,
   "id": "ac56b861",
   "metadata": {},
   "outputs": [],
   "source": [
    "for col in float_columns:\n",
    "    neighborhood[col]=neighborhood[col].map(string_to_float)"
   ]
  },
  {
   "cell_type": "markdown",
   "id": "2190a499",
   "metadata": {},
   "source": [
    "#### Narrow Down Years of Observations"
   ]
  },
  {
   "cell_type": "code",
   "execution_count": 51,
   "id": "257aa901",
   "metadata": {},
   "outputs": [
    {
     "data": {
      "text/plain": [
       "array([2.0000000e+03, 2.0010000e+03, 2.0020000e+03, 2.0030000e+03,\n",
       "       2.0040000e+03, 2.0050000e+03, 2.0052009e+07, 2.0060000e+03,\n",
       "       2.0062010e+07, 2.0070000e+03, 2.0072011e+07, 2.0080000e+03,\n",
       "       2.0082012e+07, 2.0090000e+03, 2.0092013e+07, 2.0100000e+03,\n",
       "       2.0102014e+07, 2.0110000e+03, 2.0112015e+07, 2.0120000e+03,\n",
       "       2.0122016e+07, 2.0130000e+03, 2.0132017e+07, 2.0140000e+03,\n",
       "       2.0142018e+07, 2.0150000e+03, 2.0160000e+03, 2.0170000e+03,\n",
       "       2.0180000e+03, 2.0190000e+03, 2.0200000e+03])"
      ]
     },
     "execution_count": 51,
     "metadata": {},
     "output_type": "execute_result"
    }
   ],
   "source": [
    "neighborhood['Year'].unique()"
   ]
  },
  {
   "cell_type": "code",
   "execution_count": 52,
   "id": "10a09f09",
   "metadata": {},
   "outputs": [],
   "source": [
    "# Range of years chosen to align with housing data set\n",
    "neighborhood=neighborhood[neighborhood['Year'].isin(range(2000,2019))]\n"
   ]
  },
  {
   "cell_type": "markdown",
   "id": "cd5d97fe",
   "metadata": {},
   "source": [
    "#### Align SubBorough and Community District Codes"
   ]
  },
  {
   "cell_type": "code",
   "execution_count": 53,
   "id": "b1c8f5d7",
   "metadata": {},
   "outputs": [],
   "source": [
    "# Separate observations into two different data sets, based on regional characteristic of observation\n",
    "community_districts=neighborhood[neighborhood['Region Type']=='Community District']\n",
    "subboroughs=neighborhood[neighborhood['Region Type']=='Sub-Borough Area']"
   ]
  },
  {
   "cell_type": "code",
   "execution_count": 54,
   "id": "98ba6e50",
   "metadata": {
    "scrolled": true
   },
   "outputs": [
    {
     "name": "stdout",
     "output_type": "stream",
     "text": [
      "55\n",
      "59\n"
     ]
    }
   ],
   "source": [
    "# There are 4 fewer unique Sub-Borough Area ids because 8 Community Districts were combined into 4 for the US Census\n",
    "# More info on this can be found here: https://furmancenter.org/files/sotc/SOC2009_How_to_use_the_State_of_the_City.pdf\n",
    "print(len(neighborhood[neighborhood['Region Type']=='Sub-Borough Area']['Region ID'].unique()))\n",
    "print(len(neighborhood[neighborhood['Region Type']=='Community District']['Region ID'].unique()))"
   ]
  },
  {
   "cell_type": "code",
   "execution_count": 55,
   "id": "c4f0b0bb",
   "metadata": {},
   "outputs": [],
   "source": [
    "# Subborough 101 is combination of Community Districts 101 and 102, SB 102 is CD 103 and 106, SB 301 is 301 and 302, and SB 303 is CD 304 and 305\n",
    "# Set up dictionary with counterpart to be combined\n",
    "cd_combo_dict={101:102,103:106,301:302,304:305}"
   ]
  },
  {
   "cell_type": "code",
   "execution_count": 56,
   "id": "35ac6c35",
   "metadata": {},
   "outputs": [],
   "source": [
    "# Remove Year column for next step \n",
    "float_columns.remove('Year')"
   ]
  },
  {
   "cell_type": "code",
   "execution_count": 57,
   "id": "63c16ced",
   "metadata": {},
   "outputs": [
    {
     "data": {
      "text/plain": [
       "Int64Index([1795], dtype='int64')"
      ]
     },
     "execution_count": 57,
     "metadata": {},
     "output_type": "execute_result"
    }
   ],
   "source": [
    "community_districts.loc[(community_districts['Region ID']==101)&(community_districts['Year']==2014)].index"
   ]
  },
  {
   "cell_type": "code",
   "execution_count": 58,
   "id": "f7e6a38d",
   "metadata": {
    "scrolled": false
   },
   "outputs": [
    {
     "name": "stderr",
     "output_type": "stream",
     "text": [
      "/var/folders/2k/ftjqc2j13fjdstcbgbkxqvch0000gp/T/ipykernel_38747/528115775.py:16: SettingWithCopyWarning: \n",
      "A value is trying to be set on a copy of a slice from a DataFrame.\n",
      "Try using .loc[row_indexer,col_indexer] = value instead\n",
      "\n",
      "See the caveats in the documentation: https://pandas.pydata.org/pandas-docs/stable/user_guide/indexing.html#returning-a-view-versus-a-copy\n",
      "  community_districts.loc[(community_districts['Region ID']==cd1)&(community_districts['Year']==year)][col]=avg\n"
     ]
    }
   ],
   "source": [
    "# Average values for each community district combination and drop redundant row\n",
    "for cd1 in cd_combo_dict.keys():\n",
    "    cd2=cd_combo_dict[cd1]\n",
    "    for col in float_columns:\n",
    "        for year in range(2000,2019):\n",
    "            avg=0\n",
    "            val1=(community_districts[(community_districts['Region ID']==cd1)&(community_districts['Year']==year)][col]).values[0]\n",
    "            val2=(community_districts[(community_districts['Region ID']==cd2)&(community_districts['Year']==year)][col]).values[0]\n",
    "            if val1>0 and val2>0:\n",
    "                avg=(val1+val2)/2\n",
    "            elif val1>0:\n",
    "                avg=val1\n",
    "            elif val2>0:\n",
    "                avg=val2\n",
    "            if avg>0:\n",
    "                community_districts.loc[(community_districts['Region ID']==cd1)&(community_districts['Year']==year)][col]=avg\n"
   ]
  },
  {
   "cell_type": "code",
   "execution_count": 59,
   "id": "32527b59",
   "metadata": {},
   "outputs": [
    {
     "name": "stderr",
     "output_type": "stream",
     "text": [
      "/Users/Suzanne/opt/anaconda3/lib/python3.9/site-packages/pandas/core/frame.py:4906: SettingWithCopyWarning: \n",
      "A value is trying to be set on a copy of a slice from a DataFrame\n",
      "\n",
      "See the caveats in the documentation: https://pandas.pydata.org/pandas-docs/stable/user_guide/indexing.html#returning-a-view-versus-a-copy\n",
      "  return super().drop(\n"
     ]
    }
   ],
   "source": [
    "# Drop now redundant Community Districts that have no corresponding Subborough\n",
    "for value in cd_combo_dict.values():\n",
    "    for index in list(community_districts[community_districts['Region ID']==value].index):\n",
    "        community_districts.drop(axis=0,index=index,inplace=True)"
   ]
  },
  {
   "cell_type": "code",
   "execution_count": 60,
   "id": "b83b2e7f",
   "metadata": {
    "scrolled": false
   },
   "outputs": [
    {
     "name": "stderr",
     "output_type": "stream",
     "text": [
      "/var/folders/2k/ftjqc2j13fjdstcbgbkxqvch0000gp/T/ipykernel_38747/2072725072.py:13: SettingWithCopyWarning: \n",
      "A value is trying to be set on a copy of a slice from a DataFrame.\n",
      "Try using .loc[row_indexer,col_indexer] = value instead\n",
      "\n",
      "See the caveats in the documentation: https://pandas.pydata.org/pandas-docs/stable/user_guide/indexing.html#returning-a-view-versus-a-copy\n",
      "  community_districts['Region ID']=community_districts['Region ID'].map(update_values_cds)\n"
     ]
    }
   ],
   "source": [
    "# Generate dictionary and corresponding function to convert community district values to corresponding subborough numbers\n",
    "current_values=[101, 102, 103, 104, 105, 106, 107, 108, 109, 110, 111, 112, 201, 202, 203, 204, 205, 206, 207, 208, 209, 210, 211, 212, 301, 302, 303, 304, 305, 306, 307, 308, 309, 310, 311, 312, 313, 314, 315, 316, 317, 318, 401, 402, 403, 404, 405, 406, 407, 408, 409, 410, 411, 412, 413, 414, 501, 502, 503]\n",
    "correct_values=[101, 101, 102, 103, 104, 102, 105, 106, 107, 108, 109, 110, 201, 202, 203, 204, 205, 206, 207, 208, 209, 210, 211, 212, 301, 301, 302, 303, 303, 304, 305, 306, 307, 308, 309, 310, 213, 214, 215, 216, 217, 218, 401, 402, 403, 404, 405, 406, 407, 408, 409, 410, 411, 412, 413, 414, 501, 502, 503]\n",
    "\n",
    "value_dict={}\n",
    "for i in range(len(current_values)):\n",
    "    value_dict[current_values[i]]=correct_values[i]\n",
    "\n",
    "def update_values_cds(i):\n",
    "    return value_dict[i]\n",
    "\n",
    "# Apply function to Region ID column of community district data\n",
    "community_districts['Region ID']=community_districts['Region ID'].map(update_values_cds)"
   ]
  },
  {
   "cell_type": "code",
   "execution_count": 61,
   "id": "aca3b689",
   "metadata": {
    "scrolled": true
   },
   "outputs": [
    {
     "name": "stderr",
     "output_type": "stream",
     "text": [
      "/var/folders/2k/ftjqc2j13fjdstcbgbkxqvch0000gp/T/ipykernel_38747/2925886631.py:9: SettingWithCopyWarning: \n",
      "A value is trying to be set on a copy of a slice from a DataFrame.\n",
      "Try using .loc[row_indexer,col_indexer] = value instead\n",
      "\n",
      "See the caveats in the documentation: https://pandas.pydata.org/pandas-docs/stable/user_guide/indexing.html#returning-a-view-versus-a-copy\n",
      "  subboroughs['Region ID']=subboroughs['Region ID'].map(update_values_sbs)\n"
     ]
    }
   ],
   "source": [
    "# Generate function to correct erroneous subborough values in data\n",
    "def update_values_sbs(x):\n",
    "    if x in [311,312,313,314,315,316,317,318]:\n",
    "        return x-100\n",
    "    else:\n",
    "        return x\n",
    "\n",
    "# Apply function to Region ID column of subborough data\n",
    "subboroughs['Region ID']=subboroughs['Region ID'].map(update_values_sbs)\n"
   ]
  },
  {
   "cell_type": "code",
   "execution_count": 62,
   "id": "afd3071f",
   "metadata": {
    "scrolled": true
   },
   "outputs": [
    {
     "data": {
      "text/plain": [
       "{101: 'Mott Haven/Hunts Point',\n",
       " 102: 'Morrisania/Belmont',\n",
       " 103: 'Highbridge/South Concourse',\n",
       " 104: 'University Heights/Fordham',\n",
       " 105: 'Kingsbridge Heights/Mosholu',\n",
       " 106: 'Riverdale/Kingsbridge',\n",
       " 107: 'Soundview/Parkchester',\n",
       " 108: 'Throgs Neck/Co-op City',\n",
       " 109: 'Pelham Parkway',\n",
       " 110: 'Williamsbridge/Baychester',\n",
       " 201: 'Williamsburg/Greenpoint',\n",
       " 202: 'Heights/Fort Greene',\n",
       " 203: 'Bedford Stuyvesant',\n",
       " 204: 'Bushwick',\n",
       " 205: 'East New York/Starrett City',\n",
       " 206: 'Park Slope/Carroll Gardens',\n",
       " 207: 'Sunset Park',\n",
       " 208: 'North Crown Heights/Prospect Heights',\n",
       " 209: 'South Crown Heights',\n",
       " 210: 'Bay Ridge',\n",
       " 211: 'Bensonhurst',\n",
       " 212: 'Borough Park',\n",
       " 213: 'Coney Island',\n",
       " 214: 'Flatbush',\n",
       " 215: 'Sheepshead Bay/Gravesend',\n",
       " 216: 'Brownsville/Ocean Hill',\n",
       " 217: 'East Flatbush',\n",
       " 218: 'Flatlands/Canarsie',\n",
       " 301: 'Greenwich Village/Financial District',\n",
       " 302: 'Lower East Side/Chinatown',\n",
       " 303: 'Chelsea/Clinton/Midtown',\n",
       " 304: 'Stuyvesant Town/Turtle-Bay',\n",
       " 305: 'Upper West Side',\n",
       " 306: 'Upper East Side',\n",
       " 307: 'Morningside Heights/Hamilton Heights',\n",
       " 308: 'Central Harlem',\n",
       " 309: 'East Harlem',\n",
       " 310: 'Washington Heights/Inwood',\n",
       " 401: 'Astoria',\n",
       " 402: 'Sunnyside/Woodside',\n",
       " 403: 'Jackson Heights',\n",
       " 404: 'Elmhurst/Corona',\n",
       " 405: 'Middle Village/Ridgewood',\n",
       " 406: 'Rego Park/Forest Hills',\n",
       " 407: 'Flushing/Whitestone',\n",
       " 408: 'Hillcrest/Fresh Meadows',\n",
       " 409: 'Ozone Park/Woodhaven',\n",
       " 410: 'South Ozone Park/Howard Beach',\n",
       " 411: 'Bayside/Little Neck',\n",
       " 412: 'Jamaica',\n",
       " 413: 'Village',\n",
       " 414: 'Rockaways',\n",
       " 501: 'North Shore',\n",
       " 502: 'Mid-Island',\n",
       " 503: 'South Shore'}"
      ]
     },
     "execution_count": 62,
     "metadata": {},
     "output_type": "execute_result"
    }
   ],
   "source": [
    "# Generate dictionary of ids and corresponding neighborhood names, to reference later\n",
    "subborough_id=[101, 102, 103, 104, 105, 106, 107, 108, 109, 110, 201, 202, 203, 204, 205, 206, 207, 208, 209, 210, 211, 212, 213, 214, 215, 216, 217, 218, 301, 302, 303, 304, 305, 306, 307, 308, 309, 310, 401, 402, 403, 404, 405, 406, 407, 408, 409, 410, 411, 412, 413, 414, 501, 502, 503]\n",
    "subborough_name=['Mott Haven/Hunts Point', 'Morrisania/Belmont', 'Highbridge/South Concourse', 'University Heights/Fordham', 'Kingsbridge Heights/Mosholu', 'Riverdale/Kingsbridge', 'Soundview/Parkchester', 'Throgs Neck/Co-op City', 'Pelham Parkway', 'Williamsbridge/Baychester', 'Williamsburg/Greenpoint', 'Heights/Fort Greene', 'Bedford Stuyvesant', 'Bushwick', 'East New York/Starrett City', 'Park Slope/Carroll Gardens', 'Sunset Park', 'North Crown Heights/Prospect Heights', 'South Crown Heights', 'Bay Ridge', 'Bensonhurst', 'Borough Park', 'Coney Island', 'Flatbush', 'Sheepshead Bay/Gravesend', 'Brownsville/Ocean Hill', 'East Flatbush', 'Flatlands/Canarsie', 'Greenwich Village/Financial District', 'Lower East Side/Chinatown', 'Chelsea/Clinton/Midtown', 'Stuyvesant Town/Turtle-Bay', 'Upper West Side', 'Upper East Side', 'Morningside Heights/Hamilton Heights', 'Central Harlem', 'East Harlem', 'Washington Heights/Inwood', 'Astoria', 'Sunnyside/Woodside', 'Jackson Heights', 'Elmhurst/Corona', 'Middle Village/Ridgewood', 'Rego Park/Forest Hills', 'Flushing/Whitestone', 'Hillcrest/Fresh Meadows', 'Ozone Park/Woodhaven', 'South Ozone Park/Howard Beach', 'Bayside/Little Neck', 'Jamaica', 'Village', 'Rockaways', 'North Shore', 'Mid-Island', 'South Shore']\n",
    "\n",
    "subborough_dict={}\n",
    "for i in range(len(subborough_id)):\n",
    "    subborough_dict[subborough_id[i]]=subborough_name[i]\n",
    "    \n",
    "subborough_dict"
   ]
  },
  {
   "cell_type": "code",
   "execution_count": 63,
   "id": "3f3e415e",
   "metadata": {},
   "outputs": [
    {
     "name": "stderr",
     "output_type": "stream",
     "text": [
      "/var/folders/2k/ftjqc2j13fjdstcbgbkxqvch0000gp/T/ipykernel_38747/1606039423.py:5: SettingWithCopyWarning: \n",
      "A value is trying to be set on a copy of a slice from a DataFrame.\n",
      "Try using .loc[row_indexer,col_indexer] = value instead\n",
      "\n",
      "See the caveats in the documentation: https://pandas.pydata.org/pandas-docs/stable/user_guide/indexing.html#returning-a-view-versus-a-copy\n",
      "  community_districts['Region Name']=community_districts['Region ID'].map(subborough_name)\n",
      "/var/folders/2k/ftjqc2j13fjdstcbgbkxqvch0000gp/T/ipykernel_38747/1606039423.py:6: SettingWithCopyWarning: \n",
      "A value is trying to be set on a copy of a slice from a DataFrame.\n",
      "Try using .loc[row_indexer,col_indexer] = value instead\n",
      "\n",
      "See the caveats in the documentation: https://pandas.pydata.org/pandas-docs/stable/user_guide/indexing.html#returning-a-view-versus-a-copy\n",
      "  subboroughs['Region Name']=subboroughs['Region ID'].map(subborough_name)\n"
     ]
    }
   ],
   "source": [
    "# Create dictionary function and create column for both data frames\n",
    "def subborough_name(code):\n",
    "    return subborough_dict[code]\n",
    "\n",
    "community_districts['Region Name']=community_districts['Region ID'].map(subborough_name)\n",
    "subboroughs['Region Name']=subboroughs['Region ID'].map(subborough_name)\n"
   ]
  },
  {
   "cell_type": "code",
   "execution_count": 64,
   "id": "01882503",
   "metadata": {},
   "outputs": [
    {
     "data": {
      "text/plain": [
       "((1045, 121), (1045, 121))"
      ]
     },
     "execution_count": 64,
     "metadata": {},
     "output_type": "execute_result"
    }
   ],
   "source": [
    "subboroughs.shape,community_districts.shape"
   ]
  },
  {
   "cell_type": "markdown",
   "id": "65ff2050",
   "metadata": {},
   "source": [
    "#### Compare missing values between borough, subborough, and community district level observations"
   ]
  },
  {
   "cell_type": "code",
   "execution_count": 65,
   "id": "925fcb1d",
   "metadata": {},
   "outputs": [],
   "source": [
    "# Isolate borough level observations for below comparison\n",
    "boroughs=neighborhood[neighborhood['Region Type']=='Borough']"
   ]
  },
  {
   "cell_type": "code",
   "execution_count": 66,
   "id": "0dcf2b29",
   "metadata": {},
   "outputs": [
    {
     "name": "stdout",
     "output_type": "stream",
     "text": [
      "Region ID. CD:0. SB:0. B:0\n",
      "Region Display. CD:114. SB:1045. B:0\n",
      "Region Name. CD:0. SB:0. B:0\n",
      "Region Type. CD:0. SB:0. B:0\n",
      "Year. CD:0. SB:0. B:0\n",
      "adlt_incar_rt. CD:1045. SB:1045. B:40\n",
      "afford_le030_rct. CD:1045. SB:1045. B:95\n",
      "afford_le080_rct. CD:1045. SB:1045. B:95\n",
      "afford_le120_rct. CD:1045. SB:1045. B:95\n",
      "crime_all_rt. CD:330. SB:1045. B:0\n",
      "crime_prop_rt. CD:330. SB:1045. B:0\n",
      "crime_viol_rt. CD:330. SB:1045. B:0\n",
      "gross_rent_0_1beds. CD:1045. SB:1045. B:25\n",
      "gross_rent_2_3beds. CD:1045. SB:1045. B:25\n",
      "hh_alone_pct. CD:1045. SB:275. B:25\n",
      "hh_inc_med_adj. CD:1045. SB:220. B:20\n",
      "hh_inc_own_med_adj. CD:1045. SB:275. B:25\n",
      "hh_inc_rent_med_adj. CD:1045. SB:275. B:25\n",
      "hh_u18_pct. CD:1045. SB:220. B:20\n",
      "hp_first_fhava_pct. CD:1045. SB:275. B:25\n",
      "hp_first_hi_pct. CD:1045. SB:330. B:30\n",
      "hp_first_orig. CD:1045. SB:275. B:25\n",
      "hp_first_orig_lmi_app_pct. CD:1045. SB:275. B:25\n",
      "hp_first_orig_lmi_nbhd_pct. CD:1045. SB:275. B:25\n",
      "hp_first_orig_rt. CD:1045. SB:275. B:25\n",
      "hpi_1f. CD:82. SB:1045. B:0\n",
      "hpi_4f. CD:39. SB:1045. B:0\n",
      "hpi_al. CD:0. SB:1045. B:0\n",
      "hpi_cn. CD:108. SB:1045. B:0\n",
      "hpi_ot. CD:60. SB:1045. B:0\n",
      "income_diversity_ratio. CD:1045. SB:275. B:25\n",
      "lp_all. CD:0. SB:0. B:0\n",
      "lp_fam14condo_initial. CD:0. SB:0. B:0\n",
      "lp_fam14condo_rate. CD:0. SB:0. B:0\n",
      "lp_fam14condo_repeat. CD:0. SB:0. B:0\n",
      "med_r_1f. CD:44. SB:1045. B:0\n",
      "med_r_4f. CD:28. SB:1045. B:0\n",
      "med_r_cn. CD:67. SB:1045. B:0\n",
      "med_r_ot. CD:29. SB:1045. B:0\n",
      "nb_permit_res_units. CD:21. SB:1045. B:0\n",
      "pct_prof_ela. CD:715. SB:1045. B:65\n",
      "pct_prof_math. CD:715. SB:1045. B:65\n",
      "pfn_fam14condo. CD:605. SB:1045. B:55\n",
      "pfn_fam14condo_rate. CD:605. SB:1045. B:55\n",
      "pop_65p_pct. CD:1045. SB:220. B:20\n",
      "pop_bornstate_pct. CD:1045. SB:275. B:25\n",
      "pop_commute_carfree_pct. CD:1045. SB:226. B:20\n",
      "pop_commute_time_avg. CD:1045. SB:226. B:20\n",
      "pop_disabled_pct. CD:1045. SB:440. B:40\n",
      "pop_discon_youth_pct. CD:1045. SB:1045. B:95\n",
      "pop_edu_collp_pct. CD:1045. SB:220. B:20\n",
      "pop_edu_nohs_pct. CD:1045. SB:275. B:25\n",
      "pop_foreign_pct. CD:1045. SB:220. B:20\n",
      "pop_num. CD:1045. SB:220. B:20\n",
      "pop_pov_65p_pct. CD:1045. SB:275. B:25\n",
      "pop_pov_pct. CD:1045. SB:220. B:20\n",
      "pop_pov_u18_pct. CD:1045. SB:275. B:25\n",
      "pop_race_asian_pct. CD:1045. SB:220. B:20\n",
      "pop_race_black_pct. CD:1045. SB:220. B:20\n",
      "pop_race_div_idx. CD:1045. SB:220. B:20\n",
      "pop_race_hisp_pct. CD:1045. SB:220. B:20\n",
      "pop_race_white_pct. CD:1045. SB:220. B:20\n",
      "pop16_laborforce_pct. CD:1045. SB:278. B:25\n",
      "pop16_unemp_pct. CD:1045. SB:223. B:20\n",
      "population_density. CD:1045. SB:330. B:30\n",
      "priv_evic_amt_sought_med_adj. CD:607. SB:607. B:56\n",
      "priv_evic_filing_rt. CD:605. SB:605. B:55\n",
      "priv_evic_filings. CD:605. SB:605. B:55\n",
      "prox_park_pct. CD:990. SB:1045. B:90\n",
      "prox_subway_pct. CD:990. SB:1045. B:90\n",
      "rburden_mod_ami_81_120. CD:1045. SB:1045. B:95\n",
      "rburden_mod_ami_le80. CD:1045. SB:1045. B:95\n",
      "rburden_sev_ami_81_120. CD:1045. SB:1045. B:95\n",
      "rburden_sev_ami_le80. CD:1045. SB:1045. B:95\n",
      "refi_hi_pct. CD:1045. SB:330. B:30\n",
      "refi_orig. CD:1045. SB:275. B:25\n",
      "refi_orig_rt. CD:1045. SB:275. B:25\n",
      "rent_asking_med. CD:584. SB:1045. B:50\n",
      "rent_burden_med. CD:1045. SB:220. B:20\n",
      "rent_burden_mod_pct. CD:1045. SB:275. B:25\n",
      "rent_burden_sev_pct. CD:1045. SB:990. B:90\n",
      "rent_gross_med_adj. CD:1045. SB:220. B:20\n",
      "rent_gross_recent_med_adj. CD:1045. SB:1045. B:95\n",
      "rent_pct_nycha. CD:1045. SB:990. B:90\n",
      "reo. CD:55. SB:1045. B:5\n",
      "serious_viol_rate. CD:220. SB:1045. B:20\n",
      "shd_420c_props. CD:1045. SB:1045. B:95\n",
      "shd_420c_units. CD:1045. SB:1045. B:95\n",
      "shd_421a_props. CD:1045. SB:1045. B:95\n",
      "shd_421a_units. CD:1045. SB:1045. B:95\n",
      "shd_all_sub_props. CD:1045. SB:1045. B:95\n",
      "shd_all_sub_units. CD:1045. SB:1045. B:95\n",
      "shd_ex_2020_2025_props. CD:1045. SB:1045. B:95\n",
      "shd_ex_2020_2025_units. CD:1045. SB:1045. B:95\n",
      "shd_ex_2026_2035_props. CD:1045. SB:1045. B:95\n",
      "shd_ex_2026_2035_units. CD:1045. SB:1045. B:95\n",
      "shd_ex_2036_later_props. CD:1045. SB:1045. B:95\n",
      "shd_ex_2036_later_units. CD:1045. SB:1045. B:95\n",
      "shd_hud_finins_props. CD:1045. SB:1045. B:95\n",
      "shd_hud_finins_units. CD:1045. SB:1045. B:95\n",
      "shd_hud_pbrap_props. CD:1045. SB:1045. B:95\n",
      "shd_hud_pbrap_units. CD:1045. SB:1045. B:95\n",
      "shd_lihtc_props. CD:1045. SB:1045. B:95\n",
      "shd_lihtc_units. CD:1045. SB:1045. B:95\n",
      "shd_ml_props. CD:1045. SB:1045. B:95\n",
      "shd_ml_units. CD:1045. SB:1045. B:95\n",
      "shd_nyc_prog_props. CD:1045. SB:1045. B:95\n",
      "shd_ph_props. CD:1045. SB:1045. B:95\n",
      "shd_ph_units. CD:1045. SB:1045. B:95\n",
      "total_viol_rate. CD:220. SB:1045. B:20\n",
      "unit_num. CD:1045. SB:275. B:25\n",
      "unit_occ_own_pct. CD:1045. SB:220. B:20\n",
      "unit_occ_rent_sevcrowd_pct. CD:1045. SB:1045. B:95\n",
      "unit_vac_rent_pct. CD:1045. SB:1045. B:95\n",
      "units_cert. CD:0. SB:1045. B:0\n",
      "volume_1f. CD:0. SB:1045. B:0\n",
      "volume_4f. CD:0. SB:1045. B:0\n",
      "volume_al. CD:0. SB:1045. B:0\n",
      "volume_cn. CD:0. SB:1045. B:0\n",
      "volume_ot. CD:0. SB:1045. B:0\n",
      "voucher_pct. CD:1045. SB:495. B:45\n"
     ]
    }
   ],
   "source": [
    "sb_na_count=list(subboroughs.isna().sum())\n",
    "cd_na_count=list(community_districts.isna().sum())\n",
    "b_na_count=list(boroughs.isna().sum())\n",
    "columns=list(subboroughs.columns)\n",
    "\n",
    "\n",
    "for i in range(len(columns)):\n",
    "    print(f'{columns[i]}. CD:{cd_na_count[i]}. SB:{sb_na_count[i]}. B:{b_na_count[i]}')"
   ]
  },
  {
   "cell_type": "code",
   "execution_count": 67,
   "id": "9ac8556a",
   "metadata": {},
   "outputs": [],
   "source": [
    "# From above comparison, identify which data frame has more observations for a given columns (community district or subborough)\n",
    "# Also identify where it would be appropriate to fill in NaN value with borough average observations (medians and percent rates rather than sum totals)\n",
    "\n",
    "# Following lists indicate columns to supplement NaN with borough level observations \n",
    "cd_b_overlap=['gross_rent_0_1beds','gross_rent_2_3beds','hpi_1f','hpi_4f','hpi_al','hpi_cn','hpi_ot','med_r_1f','med_r_4f','med_r_cn',\n",
    "              'med_r_ot','nb_permit_res_units','pfn_fam14condo','pfn_fam14condo_rate','priv_evic_amt_sought_med_adj','priv_evic_filing_rt',\n",
    "             'prox_park_pct','prox_subway_pct','rent_asking_med','reo','serious_viol_rate'] \n",
    "\n",
    "sb_b_overlap=['hh_inc_med_adj','hh_inc_own_med_adj','hh_inc_rent_med_adj','hp_first_fhava_pct','hp_first_hi_pct','hp_first_orig','hp_first_orig_lmi_app_pct','hp_first_orig_lmi_nbhd_pct',\n",
    "              'hp_first_orig_rt','population_density','refi_hi_pct','refi_orig_rt','rent_gross_med_adj','rent_pct_nycha','unit_occ_own_pct',\n",
    "             'voucher_pct']\n"
   ]
  },
  {
   "cell_type": "code",
   "execution_count": 68,
   "id": "5368fd40",
   "metadata": {
    "scrolled": true
   },
   "outputs": [
    {
     "name": "stderr",
     "output_type": "stream",
     "text": [
      "/var/folders/2k/ftjqc2j13fjdstcbgbkxqvch0000gp/T/ipykernel_38747/3379796285.py:2: SettingWithCopyWarning: \n",
      "A value is trying to be set on a copy of a slice from a DataFrame.\n",
      "Try using .loc[row_indexer,col_indexer] = value instead\n",
      "\n",
      "See the caveats in the documentation: https://pandas.pydata.org/pandas-docs/stable/user_guide/indexing.html#returning-a-view-versus-a-copy\n",
      "  community_districts['Region Display']=community_districts['Region Display'].fillna('BK')\n",
      "/var/folders/2k/ftjqc2j13fjdstcbgbkxqvch0000gp/T/ipykernel_38747/3379796285.py:3: SettingWithCopyWarning: \n",
      "A value is trying to be set on a copy of a slice from a DataFrame.\n",
      "Try using .loc[row_indexer,col_indexer] = value instead\n",
      "\n",
      "See the caveats in the documentation: https://pandas.pydata.org/pandas-docs/stable/user_guide/indexing.html#returning-a-view-versus-a-copy\n",
      "  subboroughs['Region Display']=subboroughs['Region Display'].fillna('BK')\n"
     ]
    }
   ],
   "source": [
    "# Fill in Region Display NaN values with step below - missing for portion of Brooklyn\n",
    "community_districts['Region Display']=community_districts['Region Display'].fillna('BK')\n",
    "subboroughs['Region Display']=subboroughs['Region Display'].fillna('BK')\n"
   ]
  },
  {
   "cell_type": "code",
   "execution_count": 69,
   "id": "7776c9a9",
   "metadata": {
    "scrolled": true
   },
   "outputs": [
    {
     "name": "stderr",
     "output_type": "stream",
     "text": [
      "/Users/Suzanne/opt/anaconda3/lib/python3.9/site-packages/pandas/core/indexing.py:1817: SettingWithCopyWarning: \n",
      "A value is trying to be set on a copy of a slice from a DataFrame.\n",
      "Try using .loc[row_indexer,col_indexer] = value instead\n",
      "\n",
      "See the caveats in the documentation: https://pandas.pydata.org/pandas-docs/stable/user_guide/indexing.html#returning-a-view-versus-a-copy\n",
      "  self._setitem_single_column(loc, value, pi)\n"
     ]
    }
   ],
   "source": [
    "# Fill in Community District NaN values with corresponding borough average\n",
    "# .iterrows() approach sourced from https://stackoverflow.com/questions/16476924/how-to-iterate-over-rows-in-a-dataframe-in-pandas\n",
    "for index,row in community_districts.iterrows():\n",
    "    year=row['Year']\n",
    "    region=row['Region Display'][0:2]\n",
    "    for col in cd_b_overlap:\n",
    "        year=row['Year']\n",
    "        if np.isnan(community_districts.loc[index,col]):\n",
    "            value=boroughs[(boroughs['Year']==year)&(boroughs['Region Display']==region)][col].values[0]\n",
    "            community_districts.loc[index,col]=value\n",
    "\n"
   ]
  },
  {
   "cell_type": "code",
   "execution_count": 71,
   "id": "f6e6117a",
   "metadata": {},
   "outputs": [],
   "source": [
    "# Repeat for subboroughs\n",
    "for index,row in subboroughs.iterrows():\n",
    "    year=row['Year']\n",
    "    region=row['Region Display'][0:2]\n",
    "    for col in sb_b_overlap:\n",
    "        year=row['Year']\n",
    "        if np.isnan(subboroughs.loc[index,col]):\n",
    "            value=boroughs[(boroughs['Year']==year)&(boroughs['Region Display']==region)][col].values[0]\n",
    "            subboroughs.loc[index,col]=value\n",
    "            "
   ]
  },
  {
   "cell_type": "code",
   "execution_count": 72,
   "id": "5420274b",
   "metadata": {},
   "outputs": [
    {
     "name": "stdout",
     "output_type": "stream",
     "text": [
      "2000.0 5115\n",
      "2001.0 6160\n",
      "2002.0 6160\n",
      "2003.0 6160\n",
      "2004.0 6160\n",
      "2005.0 4080\n",
      "2006.0 4019\n",
      "2007.0 4015\n",
      "2008.0 3960\n",
      "2009.0 3907\n",
      "2010.0 3741\n",
      "2011.0 3742\n",
      "2012.0 3741\n",
      "2013.0 3740\n",
      "2014.0 3740\n",
      "2015.0 3740\n",
      "2016.0 3740\n",
      "2017.0 3740\n",
      "2018.0 3960\n"
     ]
    }
   ],
   "source": [
    "# Check remaining nans are relatively consistent from year to year\n",
    "for year in list(subboroughs['Year'].unique()):\n",
    "    num=((subboroughs[subboroughs['Year']==year]).isna().sum()).sum()\n",
    "    print(year,num)"
   ]
  },
  {
   "cell_type": "code",
   "execution_count": 73,
   "id": "9fa5ff22",
   "metadata": {},
   "outputs": [
    {
     "name": "stdout",
     "output_type": "stream",
     "text": [
      "2000.0 5225\n",
      "2001.0 5225\n",
      "2002.0 5225\n",
      "2003.0 5225\n",
      "2004.0 5115\n",
      "2005.0 5005\n",
      "2006.0 4840\n",
      "2007.0 4840\n",
      "2008.0 4840\n",
      "2009.0 4840\n",
      "2010.0 4621\n",
      "2011.0 4510\n",
      "2012.0 4510\n",
      "2013.0 4400\n",
      "2014.0 4400\n",
      "2015.0 4400\n",
      "2016.0 4400\n",
      "2017.0 4290\n",
      "2018.0 4620\n"
     ]
    }
   ],
   "source": [
    "for year in list(community_districts['Year'].unique()):\n",
    "    num=((community_districts[community_districts['Year']==year]).isna().sum()).sum()\n",
    "    print(year,num)"
   ]
  },
  {
   "cell_type": "markdown",
   "id": "d8d6b2c5",
   "metadata": {},
   "source": [
    "#### Isolate columns of interest from each data frame"
   ]
  },
  {
   "cell_type": "code",
   "execution_count": 74,
   "id": "4352942e",
   "metadata": {},
   "outputs": [],
   "source": [
    "community_districts=community_districts[['Region ID', 'Region Name', 'Year', 'gross_rent_0_1beds', 'gross_rent_2_3beds', 'hpi_1f', 'hpi_4f', 'hpi_al', 'hpi_cn', 'hpi_ot', 'lp_all', 'lp_fam14condo_initial', 'lp_fam14condo_rate', 'lp_fam14condo_repeat', 'med_r_1f', 'med_r_4f', 'med_r_cn', 'med_r_ot', 'nb_permit_res_units', 'pfn_fam14condo', 'pfn_fam14condo_rate', 'priv_evic_amt_sought_med_adj', 'priv_evic_filing_rt', 'prox_park_pct', 'prox_subway_pct', 'rent_asking_med', 'reo', 'serious_viol_rate', 'total_viol_rate', 'units_cert', 'volume_1f', 'volume_4f', 'volume_al', 'volume_cn', 'volume_ot']]\n",
    "\n",
    "subboroughs=subboroughs[['Region ID', 'Year', 'hh_inc_med_adj', 'hh_inc_own_med_adj', 'hh_inc_rent_med_adj', 'hp_first_fhava_pct', 'hp_first_hi_pct', 'hp_first_orig', 'hp_first_orig_lmi_app_pct', 'hp_first_orig_lmi_nbhd_pct', 'hp_first_orig_rt', 'population_density', 'refi_hi_pct', 'refi_orig_rt', 'rent_gross_med_adj', 'rent_pct_nycha', 'unit_occ_own_pct', 'voucher_pct']]\n"
   ]
  },
  {
   "cell_type": "markdown",
   "id": "3a87de22",
   "metadata": {},
   "source": [
    "#### Combine data frames into one neighborhood indicator data frame"
   ]
  },
  {
   "cell_type": "code",
   "execution_count": 75,
   "id": "0c4f2214",
   "metadata": {
    "scrolled": true
   },
   "outputs": [
    {
     "data": {
      "text/plain": [
       "((1045, 35), (1045, 18))"
      ]
     },
     "execution_count": 75,
     "metadata": {},
     "output_type": "execute_result"
    }
   ],
   "source": [
    "community_districts.shape,subboroughs.shape"
   ]
  },
  {
   "cell_type": "code",
   "execution_count": 76,
   "id": "b3c1dabe",
   "metadata": {
    "scrolled": true
   },
   "outputs": [],
   "source": [
    "neighborhood=community_districts.merge(subboroughs,left_on=['Region ID','Year'],right_on=['Region ID','Year'])\n"
   ]
  },
  {
   "cell_type": "markdown",
   "id": "b198d082",
   "metadata": {},
   "source": [
    "#### Save final neighborhood dataframe"
   ]
  },
  {
   "cell_type": "code",
   "execution_count": 124,
   "id": "d9471411",
   "metadata": {},
   "outputs": [],
   "source": [
    "neighborhood.to_csv('../data/clean_neighborhood_data.csv',index=False)"
   ]
  },
  {
   "cell_type": "markdown",
   "id": "29d46800",
   "metadata": {},
   "source": [
    "## Property Exemption Detail"
   ]
  },
  {
   "cell_type": "markdown",
   "id": "f09c6512",
   "metadata": {},
   "source": [
    "https://data.cityofnewyork.us/City-Government/Property-Exemption-Detail/muvi-b6kx"
   ]
  },
  {
   "cell_type": "markdown",
   "id": "8f24be2d",
   "metadata": {},
   "source": [
    "#### Import and review data"
   ]
  },
  {
   "cell_type": "code",
   "execution_count": 78,
   "id": "2f62ae22",
   "metadata": {},
   "outputs": [
    {
     "name": "stderr",
     "output_type": "stream",
     "text": [
      "/Users/Suzanne/opt/anaconda3/lib/python3.9/site-packages/IPython/core/interactiveshell.py:3444: DtypeWarning: Columns (0,4,69) have mixed types.Specify dtype option on import or set low_memory=False.\n",
      "  exec(code_obj, self.user_global_ns, self.user_ns)\n"
     ]
    }
   ],
   "source": [
    "# Read in main data frame and exemption code dictionary data frame\n",
    "exemption_df=pd.read_csv('../data/Property_Exemption_Detail.csv')\n",
    "exemption_codes_df=pd.read_csv('../data/Exemption_Classification_Codes.csv')\n"
   ]
  },
  {
   "cell_type": "code",
   "execution_count": 79,
   "id": "f452e559",
   "metadata": {},
   "outputs": [
    {
     "data": {
      "text/html": [
       "<div>\n",
       "<style scoped>\n",
       "    .dataframe tbody tr th:only-of-type {\n",
       "        vertical-align: middle;\n",
       "    }\n",
       "\n",
       "    .dataframe tbody tr th {\n",
       "        vertical-align: top;\n",
       "    }\n",
       "\n",
       "    .dataframe thead th {\n",
       "        text-align: right;\n",
       "    }\n",
       "</style>\n",
       "<table border=\"1\" class=\"dataframe\">\n",
       "  <thead>\n",
       "    <tr style=\"text-align: right;\">\n",
       "      <th></th>\n",
       "      <th>PARID</th>\n",
       "      <th>BORO</th>\n",
       "      <th>BLOCK</th>\n",
       "      <th>LOT</th>\n",
       "      <th>EASE</th>\n",
       "      <th>RECTYPE</th>\n",
       "      <th>YEAR</th>\n",
       "      <th>REUC</th>\n",
       "      <th>PERIOD</th>\n",
       "      <th>EXMP_CODE</th>\n",
       "      <th>...</th>\n",
       "      <th>J51 prev exmpt ACT</th>\n",
       "      <th>J51 prev exmpt TRN</th>\n",
       "      <th>J51 base val ACT</th>\n",
       "      <th>J51 vase val TRN</th>\n",
       "      <th>J51 Govt Financed</th>\n",
       "      <th>CASENO</th>\n",
       "      <th>LLINE</th>\n",
       "      <th>EXTRACTDT</th>\n",
       "      <th>BLDG-CLASS</th>\n",
       "      <th>FINTAXCLASS</th>\n",
       "    </tr>\n",
       "  </thead>\n",
       "  <tbody>\n",
       "    <tr>\n",
       "      <th>0</th>\n",
       "      <td>1000010010</td>\n",
       "      <td>1</td>\n",
       "      <td>1</td>\n",
       "      <td>10</td>\n",
       "      <td>NaN</td>\n",
       "      <td>1</td>\n",
       "      <td>2021</td>\n",
       "      <td>NaN</td>\n",
       "      <td>3</td>\n",
       "      <td>2231</td>\n",
       "      <td>...</td>\n",
       "      <td>0</td>\n",
       "      <td>0</td>\n",
       "      <td>0</td>\n",
       "      <td>0</td>\n",
       "      <td>N</td>\n",
       "      <td>26587347.0</td>\n",
       "      <td>1</td>\n",
       "      <td>20200523</td>\n",
       "      <td>Y4</td>\n",
       "      <td>4</td>\n",
       "    </tr>\n",
       "    <tr>\n",
       "      <th>1</th>\n",
       "      <td>1000010101</td>\n",
       "      <td>1</td>\n",
       "      <td>1</td>\n",
       "      <td>101</td>\n",
       "      <td>NaN</td>\n",
       "      <td>1</td>\n",
       "      <td>2021</td>\n",
       "      <td>NaN</td>\n",
       "      <td>3</td>\n",
       "      <td>4600</td>\n",
       "      <td>...</td>\n",
       "      <td>0</td>\n",
       "      <td>0</td>\n",
       "      <td>0</td>\n",
       "      <td>0</td>\n",
       "      <td>N</td>\n",
       "      <td>26587348.0</td>\n",
       "      <td>1</td>\n",
       "      <td>20200523</td>\n",
       "      <td>P7</td>\n",
       "      <td>4</td>\n",
       "    </tr>\n",
       "    <tr>\n",
       "      <th>2</th>\n",
       "      <td>1000010201</td>\n",
       "      <td>1</td>\n",
       "      <td>1</td>\n",
       "      <td>201</td>\n",
       "      <td>NaN</td>\n",
       "      <td>1</td>\n",
       "      <td>2021</td>\n",
       "      <td>NaN</td>\n",
       "      <td>3</td>\n",
       "      <td>4600</td>\n",
       "      <td>...</td>\n",
       "      <td>0</td>\n",
       "      <td>0</td>\n",
       "      <td>0</td>\n",
       "      <td>0</td>\n",
       "      <td>N</td>\n",
       "      <td>26587349.0</td>\n",
       "      <td>1</td>\n",
       "      <td>20200523</td>\n",
       "      <td>Z9</td>\n",
       "      <td>4</td>\n",
       "    </tr>\n",
       "  </tbody>\n",
       "</table>\n",
       "<p>3 rows × 70 columns</p>\n",
       "</div>"
      ],
      "text/plain": [
       "        PARID  BORO  BLOCK  LOT EASE  RECTYPE  YEAR  REUC  PERIOD  EXMP_CODE  \\\n",
       "0  1000010010     1      1   10  NaN        1  2021   NaN       3       2231   \n",
       "1  1000010101     1      1  101  NaN        1  2021   NaN       3       4600   \n",
       "2  1000010201     1      1  201  NaN        1  2021   NaN       3       4600   \n",
       "\n",
       "   ...  J51 prev exmpt ACT  J51 prev exmpt TRN  J51 base val ACT  \\\n",
       "0  ...                   0                   0                 0   \n",
       "1  ...                   0                   0                 0   \n",
       "2  ...                   0                   0                 0   \n",
       "\n",
       "  J51 vase val TRN  J51 Govt Financed      CASENO LLINE  EXTRACTDT  \\\n",
       "0                0                  N  26587347.0     1   20200523   \n",
       "1                0                  N  26587348.0     1   20200523   \n",
       "2                0                  N  26587349.0     1   20200523   \n",
       "\n",
       "   BLDG-CLASS  FINTAXCLASS  \n",
       "0          Y4            4  \n",
       "1          P7            4  \n",
       "2          Z9            4  \n",
       "\n",
       "[3 rows x 70 columns]"
      ]
     },
     "execution_count": 79,
     "metadata": {},
     "output_type": "execute_result"
    }
   ],
   "source": [
    "exemption_df.head(3)"
   ]
  },
  {
   "cell_type": "code",
   "execution_count": 80,
   "id": "90e00f8c",
   "metadata": {},
   "outputs": [
    {
     "data": {
      "text/html": [
       "<div>\n",
       "<style scoped>\n",
       "    .dataframe tbody tr th:only-of-type {\n",
       "        vertical-align: middle;\n",
       "    }\n",
       "\n",
       "    .dataframe tbody tr th {\n",
       "        vertical-align: top;\n",
       "    }\n",
       "\n",
       "    .dataframe thead th {\n",
       "        text-align: right;\n",
       "    }\n",
       "</style>\n",
       "<table border=\"1\" class=\"dataframe\">\n",
       "  <thead>\n",
       "    <tr style=\"text-align: right;\">\n",
       "      <th></th>\n",
       "      <th>Exempt Code</th>\n",
       "      <th>SDEA Code</th>\n",
       "      <th>Description</th>\n",
       "      <th>Status</th>\n",
       "      <th>Legal Ref</th>\n",
       "      <th>Comments</th>\n",
       "      <th>Updated</th>\n",
       "    </tr>\n",
       "  </thead>\n",
       "  <tbody>\n",
       "    <tr>\n",
       "      <th>0</th>\n",
       "      <td>1010</td>\n",
       "      <td>41101</td>\n",
       "      <td>VETERAN</td>\n",
       "      <td>ACTIVE</td>\n",
       "      <td>RPTL § 458</td>\n",
       "      <td>NaN</td>\n",
       "      <td>2013-11-25T00:00:00.000</td>\n",
       "    </tr>\n",
       "    <tr>\n",
       "      <th>1</th>\n",
       "      <td>1010</td>\n",
       "      <td>41121</td>\n",
       "      <td>New Law Veteran</td>\n",
       "      <td>ACTIVE</td>\n",
       "      <td>RPTL § 458</td>\n",
       "      <td>NaN</td>\n",
       "      <td>2013-11-25T00:00:00.000</td>\n",
       "    </tr>\n",
       "    <tr>\n",
       "      <th>2</th>\n",
       "      <td>1010</td>\n",
       "      <td>41131</td>\n",
       "      <td>New Law Veteran</td>\n",
       "      <td>ACTIVE</td>\n",
       "      <td>RPTL § 458</td>\n",
       "      <td>NaN</td>\n",
       "      <td>2013-11-25T00:00:00.000</td>\n",
       "    </tr>\n",
       "  </tbody>\n",
       "</table>\n",
       "</div>"
      ],
      "text/plain": [
       "  Exempt Code  SDEA Code      Description  Status   Legal Ref Comments  \\\n",
       "0        1010      41101          VETERAN  ACTIVE  RPTL § 458      NaN   \n",
       "1        1010      41121  New Law Veteran  ACTIVE  RPTL § 458      NaN   \n",
       "2        1010      41131  New Law Veteran  ACTIVE  RPTL § 458      NaN   \n",
       "\n",
       "                   Updated  \n",
       "0  2013-11-25T00:00:00.000  \n",
       "1  2013-11-25T00:00:00.000  \n",
       "2  2013-11-25T00:00:00.000  "
      ]
     },
     "execution_count": 80,
     "metadata": {},
     "output_type": "execute_result"
    }
   ],
   "source": [
    "exemption_codes_df.head(3)"
   ]
  },
  {
   "cell_type": "code",
   "execution_count": 81,
   "id": "a75fe198",
   "metadata": {
    "scrolled": true
   },
   "outputs": [
    {
     "name": "stdout",
     "output_type": "stream",
     "text": [
      "PARID\n",
      "BORO\n",
      "BLOCK\n",
      "LOT\n",
      "EASE\n",
      "RECTYPE\n",
      "YEAR\n",
      "REUC\n",
      "PERIOD\n",
      "EXMP_CODE\n",
      "EXMP_CODE-SUFFIX\n",
      "EXMP_SEQ\n",
      "NYS_EXMP_CODE\n",
      "PSTATUS\n",
      "COOP_NUM\n",
      "CONDO_NUMBER\n",
      "CONDO_SFX\n",
      "PYEXMPTOT\n",
      "PYEXMPTRN\n",
      "PYEXMPTXBL\n",
      "TENEXMPTOT\n",
      "TENEXMPTRN\n",
      "TENEXMPTXBL\n",
      "CBNEXMPTOT\n",
      "CBNEXMPTRN\n",
      "CBNEXMPTXBL\n",
      "FINEXMPTOT\n",
      "FINEXMPTRN\n",
      "FINEXMPTXBL\n",
      "CUREXMPTOT\n",
      "CUREXMPTRN\n",
      "CUREXMPTXBL\n",
      "Create date\n",
      "EXNAME\n",
      "Percent 1\n",
      "Percent 2\n",
      "ENTER_DATE\n",
      "Percent 3\n",
      "Percent 4\n",
      "OWNER2\n",
      "PYINCRPCT1\n",
      "PYINCRPCT2\n",
      "PYINCRPCT3\n",
      "PYINCRPCT4\n",
      "STATUS\n",
      "COMPUTE_FLG\n",
      "PYPARTIALPCT\n",
      "NO_YEARS\n",
      "BASEYR\n",
      "BASETOT\n",
      "BASETRNTOT\n",
      "GARGCOMACT\n",
      "GARGCOMPCT\n",
      "GARGCOMTRN\n",
      "BENFTSTART\n",
      "ICIP_APPNO\n",
      "421G_CERT\n",
      "EFF_DATE\n",
      "PRELIMDATE\n",
      "421G base value ACT\n",
      "J51 prev exmpt ACT\n",
      "J51 prev exmpt TRN\n",
      "J51 base val ACT\n",
      "J51 vase val TRN\n",
      "J51 Govt Financed\n",
      "CASENO\n",
      "LLINE\n",
      "EXTRACTDT\n",
      "BLDG-CLASS\n",
      "FINTAXCLASS\n"
     ]
    }
   ],
   "source": [
    "# Print list of exemption data frame columns\n",
    "for col in exemption_df.columns:\n",
    "    print (col)"
   ]
  },
  {
   "cell_type": "markdown",
   "id": "1c3d1a92",
   "metadata": {},
   "source": [
    "#### Drop NaNs from exemption code data frame"
   ]
  },
  {
   "cell_type": "code",
   "execution_count": 82,
   "id": "21aa0118",
   "metadata": {},
   "outputs": [],
   "source": [
    "exemption_codes_df=exemption_codes_df[exemption_codes_df['Legal Ref'].notna()]"
   ]
  },
  {
   "cell_type": "markdown",
   "id": "4d3d3a6b",
   "metadata": {},
   "source": [
    "#### Identify and filter for 421a related exemption codes"
   ]
  },
  {
   "cell_type": "code",
   "execution_count": 83,
   "id": "7d9978eb",
   "metadata": {},
   "outputs": [
    {
     "data": {
      "text/html": [
       "<div>\n",
       "<style scoped>\n",
       "    .dataframe tbody tr th:only-of-type {\n",
       "        vertical-align: middle;\n",
       "    }\n",
       "\n",
       "    .dataframe tbody tr th {\n",
       "        vertical-align: top;\n",
       "    }\n",
       "\n",
       "    .dataframe thead th {\n",
       "        text-align: right;\n",
       "    }\n",
       "</style>\n",
       "<table border=\"1\" class=\"dataframe\">\n",
       "  <thead>\n",
       "    <tr style=\"text-align: right;\">\n",
       "      <th></th>\n",
       "      <th>Exempt Code</th>\n",
       "      <th>SDEA Code</th>\n",
       "      <th>Description</th>\n",
       "      <th>Status</th>\n",
       "      <th>Legal Ref</th>\n",
       "      <th>Comments</th>\n",
       "      <th>Updated</th>\n",
       "    </tr>\n",
       "  </thead>\n",
       "  <tbody>\n",
       "    <tr>\n",
       "      <th>143</th>\n",
       "      <td>5110</td>\n",
       "      <td>48800</td>\n",
       "      <td>421a (10 yr not cap)</td>\n",
       "      <td>ACTIVE</td>\n",
       "      <td>RPTL § 421A</td>\n",
       "      <td>NaN</td>\n",
       "      <td>2013-03-01T00:00:00.000</td>\n",
       "    </tr>\n",
       "    <tr>\n",
       "      <th>146</th>\n",
       "      <td>5113</td>\n",
       "      <td>48800</td>\n",
       "      <td>421a (15 yr not cap)</td>\n",
       "      <td>ACTIVE</td>\n",
       "      <td>RPTL § 421A</td>\n",
       "      <td>NaN</td>\n",
       "      <td>2013-03-01T00:00:00.000</td>\n",
       "    </tr>\n",
       "    <tr>\n",
       "      <th>147</th>\n",
       "      <td>5114</td>\n",
       "      <td>48800</td>\n",
       "      <td>421a  (25 yr not cap)</td>\n",
       "      <td>ACTIVE</td>\n",
       "      <td>RPTL § 421A</td>\n",
       "      <td>NaN</td>\n",
       "      <td>2013-03-01T00:00:00.000</td>\n",
       "    </tr>\n",
       "    <tr>\n",
       "      <th>149</th>\n",
       "      <td>5116</td>\n",
       "      <td>48800</td>\n",
       "      <td>421a  (20 yr not cap)</td>\n",
       "      <td>ACTIVE</td>\n",
       "      <td>RPTL § 421A</td>\n",
       "      <td>NaN</td>\n",
       "      <td>2013-03-01T00:00:00.000</td>\n",
       "    </tr>\n",
       "    <tr>\n",
       "      <th>150</th>\n",
       "      <td>5117</td>\n",
       "      <td>48800</td>\n",
       "      <td>421a (10 yr cap)</td>\n",
       "      <td>ACTIVE</td>\n",
       "      <td>RPTL § 421A</td>\n",
       "      <td>NaN</td>\n",
       "      <td>2013-03-01T00:00:00.000</td>\n",
       "    </tr>\n",
       "    <tr>\n",
       "      <th>151</th>\n",
       "      <td>5118</td>\n",
       "      <td>48800</td>\n",
       "      <td>421a (15 yr cap)</td>\n",
       "      <td>ACTIVE</td>\n",
       "      <td>RPTL § 421A</td>\n",
       "      <td>NaN</td>\n",
       "      <td>2013-03-01T00:00:00.000</td>\n",
       "    </tr>\n",
       "  </tbody>\n",
       "</table>\n",
       "</div>"
      ],
      "text/plain": [
       "    Exempt Code  SDEA Code            Description  Status    Legal Ref  \\\n",
       "143        5110      48800   421a (10 yr not cap)  ACTIVE  RPTL § 421A   \n",
       "146        5113      48800   421a (15 yr not cap)  ACTIVE  RPTL § 421A   \n",
       "147        5114      48800  421a  (25 yr not cap)  ACTIVE  RPTL § 421A   \n",
       "149        5116      48800  421a  (20 yr not cap)  ACTIVE  RPTL § 421A   \n",
       "150        5117      48800       421a (10 yr cap)  ACTIVE  RPTL § 421A   \n",
       "151        5118      48800       421a (15 yr cap)  ACTIVE  RPTL § 421A   \n",
       "\n",
       "    Comments                  Updated  \n",
       "143      NaN  2013-03-01T00:00:00.000  \n",
       "146      NaN  2013-03-01T00:00:00.000  \n",
       "147      NaN  2013-03-01T00:00:00.000  \n",
       "149      NaN  2013-03-01T00:00:00.000  \n",
       "150      NaN  2013-03-01T00:00:00.000  \n",
       "151      NaN  2013-03-01T00:00:00.000  "
      ]
     },
     "execution_count": 83,
     "metadata": {},
     "output_type": "execute_result"
    }
   ],
   "source": [
    "# Search for 421a related exemption codes\n",
    "exemption_codes_df[exemption_codes_df['Legal Ref'].str.contains('421A')]\n"
   ]
  },
  {
   "cell_type": "code",
   "execution_count": 84,
   "id": "48c7036c",
   "metadata": {},
   "outputs": [],
   "source": [
    "# Generate list of applicable exemption codes and convert to integers\n",
    "exemption_codes=(exemption_codes_df[exemption_codes_df['Legal Ref'].str.contains('421A')]['Exempt Code']).tolist()\n",
    "exemption_codes=[int(i) for i in exemption_codes]"
   ]
  },
  {
   "cell_type": "code",
   "execution_count": 85,
   "id": "c0464b42",
   "metadata": {},
   "outputs": [],
   "source": [
    "# Narrow down exemption data frame to those with applicable exemption code\n",
    "exemption_df=exemption_df[exemption_df['EXMP_CODE'].isin(exemption_codes)]\n"
   ]
  },
  {
   "cell_type": "markdown",
   "id": "ed07dd82",
   "metadata": {},
   "source": [
    "#### Narrow down relevant data"
   ]
  },
  {
   "cell_type": "code",
   "execution_count": 86,
   "id": "af40bbd8",
   "metadata": {},
   "outputs": [
    {
     "data": {
      "text/plain": [
       "(339361, 70)"
      ]
     },
     "execution_count": 86,
     "metadata": {},
     "output_type": "execute_result"
    }
   ],
   "source": [
    "exemption_df.shape"
   ]
  },
  {
   "cell_type": "code",
   "execution_count": 87,
   "id": "c8e30f81",
   "metadata": {},
   "outputs": [],
   "source": [
    "# Only need observations to inform dummy variable - value of 1 if exemption code related to 421a\n",
    "exemption_df=exemption_df[['BORO', 'BLOCK', 'LOT', 'EXMP_CODE']]\n"
   ]
  },
  {
   "cell_type": "markdown",
   "id": "78b6700b",
   "metadata": {},
   "source": [
    "#### Generate BBL for each observation"
   ]
  },
  {
   "cell_type": "code",
   "execution_count": 88,
   "id": "2bdb54d4",
   "metadata": {},
   "outputs": [],
   "source": [
    "# Define functions to reformat block and lot values\n",
    "\n",
    "\n",
    "def block_len(num): # Needs to be 5 digits for consistent formatting\n",
    "    if len(str(num))==5:\n",
    "        return str(num)\n",
    "    if len(str(num))==4:\n",
    "        return '0'+str(num)\n",
    "    if len(str(num))==3:\n",
    "        return '00'+str(num)\n",
    "    if len(str(num))==2:\n",
    "        return '000'+str(num)\n",
    "    if len(str(num))==1:\n",
    "        return '0000'+str(num)\n",
    "\n",
    "def lot_len(num): # Needs to be 4 digits\n",
    "    if len(str(num))==4:\n",
    "        return str(num)\n",
    "    if len(str(num))==3:\n",
    "        return '0'+str(num)\n",
    "    if len(str(num))==2:\n",
    "        return '00'+str(num)\n",
    "    if len(str(num))==1:\n",
    "        return '000'+str(num)"
   ]
  },
  {
   "cell_type": "code",
   "execution_count": 89,
   "id": "edb0abab",
   "metadata": {},
   "outputs": [],
   "source": [
    "# Map functions onto columns to reformat\n",
    "exemption_df['BORO']=exemption_df['BORO'].astype(str)\n",
    "exemption_df['BLOCK']=exemption_df['BLOCK'].map(block_len)\n",
    "exemption_df['LOT']=exemption_df['LOT'].map(lot_len)"
   ]
  },
  {
   "cell_type": "code",
   "execution_count": 90,
   "id": "178ba25e",
   "metadata": {},
   "outputs": [],
   "source": [
    "# Combine into bbl column and convert to integer\n",
    "exemption_df['bbl']=exemption_df['BORO']+exemption_df['BLOCK']+exemption_df['LOT']\n",
    "exemption_df['bbl']=exemption_df['bbl'].astype(int)"
   ]
  },
  {
   "cell_type": "code",
   "execution_count": 91,
   "id": "36670afe",
   "metadata": {},
   "outputs": [],
   "source": [
    "# Remove redundant columns\n",
    "exemption_df.drop(columns=['BORO','BLOCK','LOT'],inplace=True)"
   ]
  },
  {
   "cell_type": "markdown",
   "id": "ced77f8a",
   "metadata": {},
   "source": [
    "## Housing Database"
   ]
  },
  {
   "cell_type": "markdown",
   "id": "42548e56",
   "metadata": {},
   "source": [
    "https://www1.nyc.gov/site/planning/data-maps/open-data/dwn-housing-database.page"
   ]
  },
  {
   "cell_type": "code",
   "execution_count": 92,
   "id": "0d915863",
   "metadata": {
    "scrolled": true
   },
   "outputs": [],
   "source": [
    "housing=pd.read_csv('../data/HousingDB_post2010_completed_jobs.csv')"
   ]
  },
  {
   "cell_type": "code",
   "execution_count": 93,
   "id": "d9128809",
   "metadata": {},
   "outputs": [
    {
     "data": {
      "text/html": [
       "<div>\n",
       "<style scoped>\n",
       "    .dataframe tbody tr th:only-of-type {\n",
       "        vertical-align: middle;\n",
       "    }\n",
       "\n",
       "    .dataframe tbody tr th {\n",
       "        vertical-align: top;\n",
       "    }\n",
       "\n",
       "    .dataframe thead th {\n",
       "        text-align: right;\n",
       "    }\n",
       "</style>\n",
       "<table border=\"1\" class=\"dataframe\">\n",
       "  <thead>\n",
       "    <tr style=\"text-align: right;\">\n",
       "      <th></th>\n",
       "      <th>Job_Number</th>\n",
       "      <th>Job_Type</th>\n",
       "      <th>ResidFlag</th>\n",
       "      <th>NonresFlag</th>\n",
       "      <th>Job_Status</th>\n",
       "      <th>CompltYear</th>\n",
       "      <th>PermitYear</th>\n",
       "      <th>ClassAInit</th>\n",
       "      <th>ClassAProp</th>\n",
       "      <th>ClassANet</th>\n",
       "      <th>...</th>\n",
       "      <th>FireBattln</th>\n",
       "      <th>FireDivsn</th>\n",
       "      <th>PolicePcnt</th>\n",
       "      <th>PL_FIRM07</th>\n",
       "      <th>PL_PFIRM15</th>\n",
       "      <th>Latitude</th>\n",
       "      <th>Longitude</th>\n",
       "      <th>GeomSource</th>\n",
       "      <th>DCPEdited</th>\n",
       "      <th>Version</th>\n",
       "    </tr>\n",
       "  </thead>\n",
       "  <tbody>\n",
       "    <tr>\n",
       "      <th>0</th>\n",
       "      <td>102138820</td>\n",
       "      <td>Alteration</td>\n",
       "      <td>Residential</td>\n",
       "      <td></td>\n",
       "      <td>5. Completed Construction</td>\n",
       "      <td>2012</td>\n",
       "      <td>2008</td>\n",
       "      <td>6.0</td>\n",
       "      <td>19.0</td>\n",
       "      <td>13.0</td>\n",
       "      <td>...</td>\n",
       "      <td>11</td>\n",
       "      <td>3</td>\n",
       "      <td>24</td>\n",
       "      <td></td>\n",
       "      <td></td>\n",
       "      <td>40.796741</td>\n",
       "      <td>-73.962554</td>\n",
       "      <td>BIN DOB buildingfootprints</td>\n",
       "      <td>hotel_init/nhotel_prop/notherb_init/notherb_pr...</td>\n",
       "      <td>20Q4</td>\n",
       "    </tr>\n",
       "    <tr>\n",
       "      <th>1</th>\n",
       "      <td>102151083</td>\n",
       "      <td>Alteration</td>\n",
       "      <td>Residential</td>\n",
       "      <td></td>\n",
       "      <td>5. Completed Construction</td>\n",
       "      <td>2011</td>\n",
       "      <td>2002</td>\n",
       "      <td>7.0</td>\n",
       "      <td>9.0</td>\n",
       "      <td>2.0</td>\n",
       "      <td>...</td>\n",
       "      <td>4</td>\n",
       "      <td>1</td>\n",
       "      <td>9</td>\n",
       "      <td></td>\n",
       "      <td></td>\n",
       "      <td>40.722545</td>\n",
       "      <td>-73.982291</td>\n",
       "      <td>BIN DOB buildingfootprints</td>\n",
       "      <td></td>\n",
       "      <td>20Q4</td>\n",
       "    </tr>\n",
       "    <tr>\n",
       "      <th>2</th>\n",
       "      <td>102284172</td>\n",
       "      <td>Alteration</td>\n",
       "      <td>Residential</td>\n",
       "      <td>Non-Residential</td>\n",
       "      <td>5. Completed Construction</td>\n",
       "      <td>2016</td>\n",
       "      <td>2001</td>\n",
       "      <td>1.0</td>\n",
       "      <td>1.0</td>\n",
       "      <td>0.0</td>\n",
       "      <td>...</td>\n",
       "      <td>6</td>\n",
       "      <td>1</td>\n",
       "      <td>9</td>\n",
       "      <td></td>\n",
       "      <td></td>\n",
       "      <td>40.726385</td>\n",
       "      <td>-73.992369</td>\n",
       "      <td>BIN DOB buildingfootprints</td>\n",
       "      <td>classa_init</td>\n",
       "      <td>20Q4</td>\n",
       "    </tr>\n",
       "  </tbody>\n",
       "</table>\n",
       "<p>3 rows × 60 columns</p>\n",
       "</div>"
      ],
      "text/plain": [
       "   Job_Number    Job_Type    ResidFlag       NonresFlag  \\\n",
       "0   102138820  Alteration  Residential                    \n",
       "1   102151083  Alteration  Residential                    \n",
       "2   102284172  Alteration  Residential  Non-Residential   \n",
       "\n",
       "                  Job_Status  CompltYear  PermitYear  ClassAInit  ClassAProp  \\\n",
       "0  5. Completed Construction        2012        2008         6.0        19.0   \n",
       "1  5. Completed Construction        2011        2002         7.0         9.0   \n",
       "2  5. Completed Construction        2016        2001         1.0         1.0   \n",
       "\n",
       "   ClassANet  ... FireBattln FireDivsn PolicePcnt PL_FIRM07  PL_PFIRM15  \\\n",
       "0       13.0  ...         11         3         24                         \n",
       "1        2.0  ...          4         1          9                         \n",
       "2        0.0  ...          6         1          9                         \n",
       "\n",
       "    Latitude  Longitude                  GeomSource  \\\n",
       "0  40.796741 -73.962554  BIN DOB buildingfootprints   \n",
       "1  40.722545 -73.982291  BIN DOB buildingfootprints   \n",
       "2  40.726385 -73.992369  BIN DOB buildingfootprints   \n",
       "\n",
       "                                           DCPEdited Version  \n",
       "0  hotel_init/nhotel_prop/notherb_init/notherb_pr...    20Q4  \n",
       "1                                                       20Q4  \n",
       "2                                        classa_init    20Q4  \n",
       "\n",
       "[3 rows x 60 columns]"
      ]
     },
     "execution_count": 93,
     "metadata": {},
     "output_type": "execute_result"
    }
   ],
   "source": [
    "housing.head(3)"
   ]
  },
  {
   "cell_type": "code",
   "execution_count": 94,
   "id": "5839a595",
   "metadata": {},
   "outputs": [
    {
     "data": {
      "text/plain": [
       "(47208, 60)"
      ]
     },
     "execution_count": 94,
     "metadata": {},
     "output_type": "execute_result"
    }
   ],
   "source": [
    "housing.shape"
   ]
  },
  {
   "cell_type": "code",
   "execution_count": 95,
   "id": "f16f0665",
   "metadata": {},
   "outputs": [
    {
     "name": "stdout",
     "output_type": "stream",
     "text": [
      "<class 'pandas.core.frame.DataFrame'>\n",
      "RangeIndex: 47208 entries, 0 to 47207\n",
      "Data columns (total 60 columns):\n",
      " #   Column      Non-Null Count  Dtype  \n",
      "---  ------      --------------  -----  \n",
      " 0   Job_Number  47208 non-null  int64  \n",
      " 1   Job_Type    47208 non-null  object \n",
      " 2   ResidFlag   47208 non-null  object \n",
      " 3   NonresFlag  47208 non-null  object \n",
      " 4   Job_Status  47208 non-null  object \n",
      " 5   CompltYear  47208 non-null  int64  \n",
      " 6   PermitYear  47208 non-null  int64  \n",
      " 7   ClassAInit  47208 non-null  float64\n",
      " 8   ClassAProp  47208 non-null  float64\n",
      " 9   ClassANet   47208 non-null  float64\n",
      " 10  HotelInit   47208 non-null  object \n",
      " 11  HotelProp   47208 non-null  object \n",
      " 12  OtherBInit  47208 non-null  object \n",
      " 13  OtherBProp  47208 non-null  object \n",
      " 14  UnitsCO     47208 non-null  float64\n",
      " 15  Boro        47208 non-null  int64  \n",
      " 16  BIN         47208 non-null  int64  \n",
      " 17  BBL         47208 non-null  int64  \n",
      " 18  AddressNum  47208 non-null  object \n",
      " 19  AddressSt   47208 non-null  object \n",
      " 20  Occ_Init    47208 non-null  object \n",
      " 21  Occ_Prop    47208 non-null  object \n",
      " 22  Job_Desc    47164 non-null  object \n",
      " 23  DateFiled   47208 non-null  object \n",
      " 24  DatePermit  47208 non-null  object \n",
      " 25  DateLstUpd  47208 non-null  object \n",
      " 26  DateComplt  47208 non-null  object \n",
      " 27  ZoningDst1  47208 non-null  object \n",
      " 28  ZoningDst2  47208 non-null  object \n",
      " 29  ZoningDst3  47208 non-null  object \n",
      " 30  SpeclDst1   47208 non-null  object \n",
      " 31  SpeclDst2   47208 non-null  object \n",
      " 32  Landmark    47208 non-null  object \n",
      " 33  FloorsInit  47208 non-null  float64\n",
      " 34  FloorsProp  47208 non-null  float64\n",
      " 35  Enlargemnt  47208 non-null  object \n",
      " 36  Ownership   47208 non-null  object \n",
      " 37  CenBlock10  47208 non-null  int64  \n",
      " 38  BCTCB2010   47208 non-null  int64  \n",
      " 39  BCT2010     47208 non-null  int64  \n",
      " 40  NTA2010     47208 non-null  object \n",
      " 41  NTAName10   47208 non-null  object \n",
      " 42  PUMA2010    47208 non-null  int64  \n",
      " 43  CommntyDst  47208 non-null  int64  \n",
      " 44  CouncilDst  47208 non-null  int64  \n",
      " 45  SchSubDist  47208 non-null  object \n",
      " 46  SchCommnty  47208 non-null  int64  \n",
      " 47  SchElmntry  47208 non-null  int64  \n",
      " 48  SchMiddle   47208 non-null  int64  \n",
      " 49  FireCmpany  47208 non-null  object \n",
      " 50  FireBattln  47208 non-null  int64  \n",
      " 51  FireDivsn   47208 non-null  int64  \n",
      " 52  PolicePcnt  47208 non-null  int64  \n",
      " 53  PL_FIRM07   47208 non-null  object \n",
      " 54  PL_PFIRM15  47208 non-null  object \n",
      " 55  Latitude    47208 non-null  float64\n",
      " 56  Longitude   47208 non-null  float64\n",
      " 57  GeomSource  47208 non-null  object \n",
      " 58  DCPEdited   47208 non-null  object \n",
      " 59  Version     47208 non-null  object \n",
      "dtypes: float64(8), int64(18), object(34)\n",
      "memory usage: 21.6+ MB\n"
     ]
    }
   ],
   "source": [
    "housing.info()"
   ]
  },
  {
   "cell_type": "markdown",
   "id": "b5b5c6f5",
   "metadata": {},
   "source": [
    "#### Convert PUMA 2010 values into subborough ids"
   ]
  },
  {
   "cell_type": "code",
   "execution_count": 96,
   "id": "25d0d888",
   "metadata": {},
   "outputs": [],
   "source": [
    "puma=[3710, 3705, 3708, 3707, 3706, 3701, 3709, 3703, 3704, 3702, 4001, 4004, 4003, 4002, 4008, 4005, 4012, 4006, 4011, 4013, 4017, 4014, 4018, 4015, 4016, 4007, 4010, 4009, 3810, 3809, 3807, 3808, 3806, 3805, 3802, 3803, 3804, 3801, 4101, 4109, 4102, 4107, 4110, 4108, 4103, 4106, 4111, 4113, 4104, 4112, 4105, 4114, 3903, 3902, 3901]\n",
    "puma_dict={}\n",
    "\n",
    "for i in range(len(puma)):\n",
    "    puma_dict[puma[i]]=subborough_id[i]\n",
    "\n",
    "def convert_puma(value):\n",
    "    return puma_dict[value]"
   ]
  },
  {
   "cell_type": "code",
   "execution_count": 97,
   "id": "3431d788",
   "metadata": {},
   "outputs": [],
   "source": [
    "housing['region_id']=housing['PUMA2010'].map(convert_puma)"
   ]
  },
  {
   "cell_type": "markdown",
   "id": "c34e58e3",
   "metadata": {},
   "source": [
    "#### Narrow down relevant data"
   ]
  },
  {
   "cell_type": "code",
   "execution_count": 98,
   "id": "ffa9a5bd",
   "metadata": {},
   "outputs": [],
   "source": [
    "# Narrow down to projects classified as new construction\n",
    "housing=housing[housing['Job_Type']=='New Building']"
   ]
  },
  {
   "cell_type": "code",
   "execution_count": 99,
   "id": "53d28fe4",
   "metadata": {
    "scrolled": false
   },
   "outputs": [],
   "source": [
    "# Narrow down to projects that are classified as residential with 3 or more units\n",
    "housing=housing[housing['Occ_Prop'].str.startswith('Residential: 3 or More Units')]\n"
   ]
  },
  {
   "cell_type": "code",
   "execution_count": 100,
   "id": "48983a3b",
   "metadata": {},
   "outputs": [],
   "source": [
    "# Combine total units\n",
    "housing['units']=housing['ClassAProp']+housing['ClassANet']\n"
   ]
  },
  {
   "cell_type": "code",
   "execution_count": 101,
   "id": "1b886b97",
   "metadata": {},
   "outputs": [],
   "source": [
    "# Isolate columns of interest\n",
    "housing=housing[['units','BBL', 'DateFiled', 'DateComplt','FloorsProp', 'region_id', 'Latitude', 'Longitude']]\n"
   ]
  },
  {
   "cell_type": "markdown",
   "id": "92852926",
   "metadata": {},
   "source": [
    "#### Reformat columns as needed"
   ]
  },
  {
   "cell_type": "code",
   "execution_count": 102,
   "id": "d0b29d9f",
   "metadata": {},
   "outputs": [],
   "source": [
    "# Define reformatting functions specific to each column to isolate year (dates have different formats for different columns)\n",
    "def year_from_date_datefiled(date):\n",
    "    return float(date[0:4]) # Float to match neighborhood data\n",
    "\n",
    "housing['DateFiled']=housing['DateFiled'].map(year_from_date_datefiled)\n",
    "\n",
    "def year_from_date_datecomplete(date):\n",
    "    return float(date[-12:-8])\n",
    "\n",
    "housing['DateComplt']=housing['DateComplt'].map(year_from_date_datecomplete)"
   ]
  },
  {
   "cell_type": "code",
   "execution_count": 103,
   "id": "8e0a2357",
   "metadata": {},
   "outputs": [],
   "source": [
    "housing.rename(columns={'BBL':'bbl','DateFiled':'year_filed','DateComplt':'year_complete','FloorsProp':'floors','Latitude':'latitude','Longitude':'longitude'},inplace=True)\n"
   ]
  },
  {
   "cell_type": "markdown",
   "id": "87ba71fc",
   "metadata": {},
   "source": [
    "## Final Data Frame"
   ]
  },
  {
   "cell_type": "markdown",
   "id": "44aa61bf",
   "metadata": {},
   "source": [
    "#### Generate column for housing data frame to indicate 421a participation"
   ]
  },
  {
   "cell_type": "code",
   "execution_count": 104,
   "id": "4c3e502e",
   "metadata": {},
   "outputs": [],
   "source": [
    "# Add initial column of zeros to housing data frame\n",
    "housing['421a']=0"
   ]
  },
  {
   "cell_type": "code",
   "execution_count": 105,
   "id": "33524bdb",
   "metadata": {
    "scrolled": true
   },
   "outputs": [
    {
     "data": {
      "text/html": [
       "<div>\n",
       "<style scoped>\n",
       "    .dataframe tbody tr th:only-of-type {\n",
       "        vertical-align: middle;\n",
       "    }\n",
       "\n",
       "    .dataframe tbody tr th {\n",
       "        vertical-align: top;\n",
       "    }\n",
       "\n",
       "    .dataframe thead th {\n",
       "        text-align: right;\n",
       "    }\n",
       "</style>\n",
       "<table border=\"1\" class=\"dataframe\">\n",
       "  <thead>\n",
       "    <tr style=\"text-align: right;\">\n",
       "      <th></th>\n",
       "      <th>units</th>\n",
       "      <th>bbl</th>\n",
       "      <th>year_filed</th>\n",
       "      <th>year_complete</th>\n",
       "      <th>floors</th>\n",
       "      <th>region_id</th>\n",
       "      <th>latitude</th>\n",
       "      <th>longitude</th>\n",
       "      <th>421a</th>\n",
       "    </tr>\n",
       "  </thead>\n",
       "  <tbody>\n",
       "    <tr>\n",
       "      <th>4</th>\n",
       "      <td>110.0</td>\n",
       "      <td>1004207501</td>\n",
       "      <td>2001.0</td>\n",
       "      <td>2010.0</td>\n",
       "      <td>16.0</td>\n",
       "      <td>302</td>\n",
       "      <td>40.720032</td>\n",
       "      <td>-73.991651</td>\n",
       "      <td>0</td>\n",
       "    </tr>\n",
       "    <tr>\n",
       "      <th>43</th>\n",
       "      <td>10.0</td>\n",
       "      <td>1004710015</td>\n",
       "      <td>2000.0</td>\n",
       "      <td>2010.0</td>\n",
       "      <td>6.0</td>\n",
       "      <td>301</td>\n",
       "      <td>40.720174</td>\n",
       "      <td>-73.997206</td>\n",
       "      <td>0</td>\n",
       "    </tr>\n",
       "    <tr>\n",
       "      <th>83</th>\n",
       "      <td>60.0</td>\n",
       "      <td>1016390027</td>\n",
       "      <td>2002.0</td>\n",
       "      <td>2011.0</td>\n",
       "      <td>6.0</td>\n",
       "      <td>309</td>\n",
       "      <td>40.795374</td>\n",
       "      <td>-73.943304</td>\n",
       "      <td>0</td>\n",
       "    </tr>\n",
       "  </tbody>\n",
       "</table>\n",
       "</div>"
      ],
      "text/plain": [
       "    units         bbl  year_filed  year_complete  floors  region_id  \\\n",
       "4   110.0  1004207501      2001.0         2010.0    16.0        302   \n",
       "43   10.0  1004710015      2000.0         2010.0     6.0        301   \n",
       "83   60.0  1016390027      2002.0         2011.0     6.0        309   \n",
       "\n",
       "     latitude  longitude  421a  \n",
       "4   40.720032 -73.991651     0  \n",
       "43  40.720174 -73.997206     0  \n",
       "83  40.795374 -73.943304     0  "
      ]
     },
     "execution_count": 105,
     "metadata": {},
     "output_type": "execute_result"
    }
   ],
   "source": [
    "housing.head(3)"
   ]
  },
  {
   "cell_type": "code",
   "execution_count": 106,
   "id": "6f6f9e9b",
   "metadata": {},
   "outputs": [
    {
     "data": {
      "text/plain": [
       "(6734, 9)"
      ]
     },
     "execution_count": 106,
     "metadata": {},
     "output_type": "execute_result"
    }
   ],
   "source": [
    "housing.shape"
   ]
  },
  {
   "cell_type": "code",
   "execution_count": 107,
   "id": "52f9979a",
   "metadata": {},
   "outputs": [],
   "source": [
    "bbl_exemption=list(exemption_df['bbl'].unique())\n",
    "\n",
    "for index,row in housing.iterrows():\n",
    "    if (row['bbl']) in bbl_exemption:\n",
    "        housing.loc[index,'421a']=1"
   ]
  },
  {
   "cell_type": "code",
   "execution_count": 108,
   "id": "19ffe75f",
   "metadata": {},
   "outputs": [
    {
     "data": {
      "text/html": [
       "<div>\n",
       "<style scoped>\n",
       "    .dataframe tbody tr th:only-of-type {\n",
       "        vertical-align: middle;\n",
       "    }\n",
       "\n",
       "    .dataframe tbody tr th {\n",
       "        vertical-align: top;\n",
       "    }\n",
       "\n",
       "    .dataframe thead th {\n",
       "        text-align: right;\n",
       "    }\n",
       "</style>\n",
       "<table border=\"1\" class=\"dataframe\">\n",
       "  <thead>\n",
       "    <tr style=\"text-align: right;\">\n",
       "      <th></th>\n",
       "      <th>units</th>\n",
       "      <th>bbl</th>\n",
       "      <th>year_filed</th>\n",
       "      <th>year_complete</th>\n",
       "      <th>floors</th>\n",
       "      <th>region_id</th>\n",
       "      <th>latitude</th>\n",
       "      <th>longitude</th>\n",
       "      <th>421a</th>\n",
       "    </tr>\n",
       "  </thead>\n",
       "  <tbody>\n",
       "    <tr>\n",
       "      <th>4</th>\n",
       "      <td>110.0</td>\n",
       "      <td>1004207501</td>\n",
       "      <td>2001.0</td>\n",
       "      <td>2010.0</td>\n",
       "      <td>16.0</td>\n",
       "      <td>302</td>\n",
       "      <td>40.720032</td>\n",
       "      <td>-73.991651</td>\n",
       "      <td>0</td>\n",
       "    </tr>\n",
       "    <tr>\n",
       "      <th>43</th>\n",
       "      <td>10.0</td>\n",
       "      <td>1004710015</td>\n",
       "      <td>2000.0</td>\n",
       "      <td>2010.0</td>\n",
       "      <td>6.0</td>\n",
       "      <td>301</td>\n",
       "      <td>40.720174</td>\n",
       "      <td>-73.997206</td>\n",
       "      <td>1</td>\n",
       "    </tr>\n",
       "    <tr>\n",
       "      <th>83</th>\n",
       "      <td>60.0</td>\n",
       "      <td>1016390027</td>\n",
       "      <td>2002.0</td>\n",
       "      <td>2011.0</td>\n",
       "      <td>6.0</td>\n",
       "      <td>309</td>\n",
       "      <td>40.795374</td>\n",
       "      <td>-73.943304</td>\n",
       "      <td>1</td>\n",
       "    </tr>\n",
       "    <tr>\n",
       "      <th>113</th>\n",
       "      <td>78.0</td>\n",
       "      <td>1017160051</td>\n",
       "      <td>2002.0</td>\n",
       "      <td>2013.0</td>\n",
       "      <td>7.0</td>\n",
       "      <td>309</td>\n",
       "      <td>40.795966</td>\n",
       "      <td>-73.932160</td>\n",
       "      <td>1</td>\n",
       "    </tr>\n",
       "    <tr>\n",
       "      <th>126</th>\n",
       "      <td>16.0</td>\n",
       "      <td>1016767505</td>\n",
       "      <td>2003.0</td>\n",
       "      <td>2010.0</td>\n",
       "      <td>9.0</td>\n",
       "      <td>309</td>\n",
       "      <td>40.788784</td>\n",
       "      <td>-73.941054</td>\n",
       "      <td>0</td>\n",
       "    </tr>\n",
       "  </tbody>\n",
       "</table>\n",
       "</div>"
      ],
      "text/plain": [
       "     units         bbl  year_filed  year_complete  floors  region_id  \\\n",
       "4    110.0  1004207501      2001.0         2010.0    16.0        302   \n",
       "43    10.0  1004710015      2000.0         2010.0     6.0        301   \n",
       "83    60.0  1016390027      2002.0         2011.0     6.0        309   \n",
       "113   78.0  1017160051      2002.0         2013.0     7.0        309   \n",
       "126   16.0  1016767505      2003.0         2010.0     9.0        309   \n",
       "\n",
       "      latitude  longitude  421a  \n",
       "4    40.720032 -73.991651     0  \n",
       "43   40.720174 -73.997206     1  \n",
       "83   40.795374 -73.943304     1  \n",
       "113  40.795966 -73.932160     1  \n",
       "126  40.788784 -73.941054     0  "
      ]
     },
     "execution_count": 108,
     "metadata": {},
     "output_type": "execute_result"
    }
   ],
   "source": [
    "housing.head()"
   ]
  },
  {
   "cell_type": "code",
   "execution_count": 109,
   "id": "a53e5f39",
   "metadata": {},
   "outputs": [
    {
     "data": {
      "text/plain": [
       "0    4962\n",
       "1    1772\n",
       "Name: 421a, dtype: int64"
      ]
     },
     "execution_count": 109,
     "metadata": {},
     "output_type": "execute_result"
    }
   ],
   "source": [
    "housing['421a'].value_counts()"
   ]
  },
  {
   "cell_type": "markdown",
   "id": "955f5be2",
   "metadata": {},
   "source": [
    "#### Save final housing data frame"
   ]
  },
  {
   "cell_type": "code",
   "execution_count": 123,
   "id": "e9052dad",
   "metadata": {},
   "outputs": [],
   "source": [
    "housing.to_csv('../data/clean_housing_data.csv',index=False)"
   ]
  },
  {
   "cell_type": "markdown",
   "id": "b9f4755a",
   "metadata": {},
   "source": [
    "#### Merge housing and neighborhood data frames"
   ]
  },
  {
   "cell_type": "code",
   "execution_count": 112,
   "id": "14ecd642",
   "metadata": {},
   "outputs": [
    {
     "data": {
      "text/plain": [
       "((6734, 9), (1045, 51))"
      ]
     },
     "execution_count": 112,
     "metadata": {},
     "output_type": "execute_result"
    }
   ],
   "source": [
    "housing.shape,neighborhood.shape"
   ]
  },
  {
   "cell_type": "code",
   "execution_count": 113,
   "id": "b46d93c4",
   "metadata": {},
   "outputs": [],
   "source": [
    "df=housing.merge(neighborhood, left_on=['region_id','year_filed'], right_on=['Region ID','Year'])\n",
    "\n"
   ]
  },
  {
   "cell_type": "code",
   "execution_count": 114,
   "id": "e62f1bf7",
   "metadata": {},
   "outputs": [
    {
     "data": {
      "text/html": [
       "<div>\n",
       "<style scoped>\n",
       "    .dataframe tbody tr th:only-of-type {\n",
       "        vertical-align: middle;\n",
       "    }\n",
       "\n",
       "    .dataframe tbody tr th {\n",
       "        vertical-align: top;\n",
       "    }\n",
       "\n",
       "    .dataframe thead th {\n",
       "        text-align: right;\n",
       "    }\n",
       "</style>\n",
       "<table border=\"1\" class=\"dataframe\">\n",
       "  <thead>\n",
       "    <tr style=\"text-align: right;\">\n",
       "      <th></th>\n",
       "      <th>units</th>\n",
       "      <th>bbl</th>\n",
       "      <th>year_filed</th>\n",
       "      <th>year_complete</th>\n",
       "      <th>floors</th>\n",
       "      <th>region_id</th>\n",
       "      <th>latitude</th>\n",
       "      <th>longitude</th>\n",
       "      <th>421a</th>\n",
       "      <th>Region ID</th>\n",
       "      <th>...</th>\n",
       "      <th>hp_first_orig_lmi_app_pct</th>\n",
       "      <th>hp_first_orig_lmi_nbhd_pct</th>\n",
       "      <th>hp_first_orig_rt</th>\n",
       "      <th>population_density</th>\n",
       "      <th>refi_hi_pct</th>\n",
       "      <th>refi_orig_rt</th>\n",
       "      <th>rent_gross_med_adj</th>\n",
       "      <th>rent_pct_nycha</th>\n",
       "      <th>unit_occ_own_pct</th>\n",
       "      <th>voucher_pct</th>\n",
       "    </tr>\n",
       "  </thead>\n",
       "  <tbody>\n",
       "    <tr>\n",
       "      <th>0</th>\n",
       "      <td>110.0</td>\n",
       "      <td>1004207501</td>\n",
       "      <td>2001.0</td>\n",
       "      <td>2010.0</td>\n",
       "      <td>16.0</td>\n",
       "      <td>302</td>\n",
       "      <td>40.720032</td>\n",
       "      <td>-73.991651</td>\n",
       "      <td>0</td>\n",
       "      <td>302</td>\n",
       "      <td>...</td>\n",
       "      <td>NaN</td>\n",
       "      <td>NaN</td>\n",
       "      <td>NaN</td>\n",
       "      <td>NaN</td>\n",
       "      <td>NaN</td>\n",
       "      <td>NaN</td>\n",
       "      <td>NaN</td>\n",
       "      <td>NaN</td>\n",
       "      <td>NaN</td>\n",
       "      <td>NaN</td>\n",
       "    </tr>\n",
       "    <tr>\n",
       "      <th>1</th>\n",
       "      <td>10.0</td>\n",
       "      <td>1004710015</td>\n",
       "      <td>2000.0</td>\n",
       "      <td>2010.0</td>\n",
       "      <td>6.0</td>\n",
       "      <td>301</td>\n",
       "      <td>40.720174</td>\n",
       "      <td>-73.997206</td>\n",
       "      <td>1</td>\n",
       "      <td>301</td>\n",
       "      <td>...</td>\n",
       "      <td>NaN</td>\n",
       "      <td>NaN</td>\n",
       "      <td>NaN</td>\n",
       "      <td>NaN</td>\n",
       "      <td>NaN</td>\n",
       "      <td>NaN</td>\n",
       "      <td>910.0</td>\n",
       "      <td>NaN</td>\n",
       "      <td>14.5</td>\n",
       "      <td>NaN</td>\n",
       "    </tr>\n",
       "    <tr>\n",
       "      <th>2</th>\n",
       "      <td>60.0</td>\n",
       "      <td>1016390027</td>\n",
       "      <td>2002.0</td>\n",
       "      <td>2011.0</td>\n",
       "      <td>6.0</td>\n",
       "      <td>309</td>\n",
       "      <td>40.795374</td>\n",
       "      <td>-73.943304</td>\n",
       "      <td>1</td>\n",
       "      <td>309</td>\n",
       "      <td>...</td>\n",
       "      <td>NaN</td>\n",
       "      <td>NaN</td>\n",
       "      <td>NaN</td>\n",
       "      <td>NaN</td>\n",
       "      <td>NaN</td>\n",
       "      <td>NaN</td>\n",
       "      <td>NaN</td>\n",
       "      <td>NaN</td>\n",
       "      <td>NaN</td>\n",
       "      <td>NaN</td>\n",
       "    </tr>\n",
       "    <tr>\n",
       "      <th>3</th>\n",
       "      <td>78.0</td>\n",
       "      <td>1017160051</td>\n",
       "      <td>2002.0</td>\n",
       "      <td>2013.0</td>\n",
       "      <td>7.0</td>\n",
       "      <td>309</td>\n",
       "      <td>40.795966</td>\n",
       "      <td>-73.932160</td>\n",
       "      <td>1</td>\n",
       "      <td>309</td>\n",
       "      <td>...</td>\n",
       "      <td>NaN</td>\n",
       "      <td>NaN</td>\n",
       "      <td>NaN</td>\n",
       "      <td>NaN</td>\n",
       "      <td>NaN</td>\n",
       "      <td>NaN</td>\n",
       "      <td>NaN</td>\n",
       "      <td>NaN</td>\n",
       "      <td>NaN</td>\n",
       "      <td>NaN</td>\n",
       "    </tr>\n",
       "    <tr>\n",
       "      <th>4</th>\n",
       "      <td>16.0</td>\n",
       "      <td>1016767505</td>\n",
       "      <td>2003.0</td>\n",
       "      <td>2010.0</td>\n",
       "      <td>9.0</td>\n",
       "      <td>309</td>\n",
       "      <td>40.788784</td>\n",
       "      <td>-73.941054</td>\n",
       "      <td>0</td>\n",
       "      <td>309</td>\n",
       "      <td>...</td>\n",
       "      <td>NaN</td>\n",
       "      <td>NaN</td>\n",
       "      <td>NaN</td>\n",
       "      <td>NaN</td>\n",
       "      <td>NaN</td>\n",
       "      <td>NaN</td>\n",
       "      <td>NaN</td>\n",
       "      <td>NaN</td>\n",
       "      <td>NaN</td>\n",
       "      <td>NaN</td>\n",
       "    </tr>\n",
       "  </tbody>\n",
       "</table>\n",
       "<p>5 rows × 60 columns</p>\n",
       "</div>"
      ],
      "text/plain": [
       "   units         bbl  year_filed  year_complete  floors  region_id   latitude  \\\n",
       "0  110.0  1004207501      2001.0         2010.0    16.0        302  40.720032   \n",
       "1   10.0  1004710015      2000.0         2010.0     6.0        301  40.720174   \n",
       "2   60.0  1016390027      2002.0         2011.0     6.0        309  40.795374   \n",
       "3   78.0  1017160051      2002.0         2013.0     7.0        309  40.795966   \n",
       "4   16.0  1016767505      2003.0         2010.0     9.0        309  40.788784   \n",
       "\n",
       "   longitude  421a  Region ID  ... hp_first_orig_lmi_app_pct  \\\n",
       "0 -73.991651     0        302  ...                       NaN   \n",
       "1 -73.997206     1        301  ...                       NaN   \n",
       "2 -73.943304     1        309  ...                       NaN   \n",
       "3 -73.932160     1        309  ...                       NaN   \n",
       "4 -73.941054     0        309  ...                       NaN   \n",
       "\n",
       "   hp_first_orig_lmi_nbhd_pct  hp_first_orig_rt  population_density  \\\n",
       "0                         NaN               NaN                 NaN   \n",
       "1                         NaN               NaN                 NaN   \n",
       "2                         NaN               NaN                 NaN   \n",
       "3                         NaN               NaN                 NaN   \n",
       "4                         NaN               NaN                 NaN   \n",
       "\n",
       "   refi_hi_pct  refi_orig_rt  rent_gross_med_adj  rent_pct_nycha  \\\n",
       "0          NaN           NaN                 NaN             NaN   \n",
       "1          NaN           NaN               910.0             NaN   \n",
       "2          NaN           NaN                 NaN             NaN   \n",
       "3          NaN           NaN                 NaN             NaN   \n",
       "4          NaN           NaN                 NaN             NaN   \n",
       "\n",
       "   unit_occ_own_pct  voucher_pct  \n",
       "0               NaN          NaN  \n",
       "1              14.5          NaN  \n",
       "2               NaN          NaN  \n",
       "3               NaN          NaN  \n",
       "4               NaN          NaN  \n",
       "\n",
       "[5 rows x 60 columns]"
      ]
     },
     "execution_count": 114,
     "metadata": {},
     "output_type": "execute_result"
    }
   ],
   "source": [
    "df.head()"
   ]
  },
  {
   "cell_type": "code",
   "execution_count": 115,
   "id": "4bc4931c",
   "metadata": {
    "scrolled": true
   },
   "outputs": [
    {
     "data": {
      "text/plain": [
       "(6719, 60)"
      ]
     },
     "execution_count": 115,
     "metadata": {},
     "output_type": "execute_result"
    }
   ],
   "source": [
    "df.shape"
   ]
  },
  {
   "cell_type": "markdown",
   "id": "338d2190",
   "metadata": {},
   "source": [
    "#### Consolodate columns"
   ]
  },
  {
   "cell_type": "code",
   "execution_count": 116,
   "id": "4b1ffcf4",
   "metadata": {},
   "outputs": [],
   "source": [
    "# Focus on year the permit for new construction was filed\n",
    "df.drop(columns=['Year','year_complete'],inplace=True)"
   ]
  },
  {
   "cell_type": "code",
   "execution_count": 117,
   "id": "5a2de24c",
   "metadata": {},
   "outputs": [],
   "source": [
    "# Eliminate redundant region id column\n",
    "df.drop(columns=['Region ID'],inplace=True)"
   ]
  },
  {
   "cell_type": "markdown",
   "id": "2a63c87d",
   "metadata": {},
   "source": [
    "#### Evaluate NaN values"
   ]
  },
  {
   "cell_type": "code",
   "execution_count": 187,
   "id": "8133c00b",
   "metadata": {},
   "outputs": [
    {
     "name": "stdout",
     "output_type": "stream",
     "text": [
      "<class 'pandas.core.frame.DataFrame'>\n",
      "Int64Index: 6719 entries, 0 to 6718\n",
      "Data columns (total 57 columns):\n",
      " #   Column                        Non-Null Count  Dtype  \n",
      "---  ------                        --------------  -----  \n",
      " 0   units                         6719 non-null   float64\n",
      " 1   bbl                           6719 non-null   int64  \n",
      " 2   year_filed                    6719 non-null   float64\n",
      " 3   floors                        6719 non-null   float64\n",
      " 4   region_id                     6719 non-null   int64  \n",
      " 5   latitude                      6719 non-null   float64\n",
      " 6   longitude                     6719 non-null   float64\n",
      " 7   421a                          6719 non-null   int64  \n",
      " 8   Region Name                   6719 non-null   object \n",
      " 9   gross_rent_0_1beds            6322 non-null   float64\n",
      " 10  gross_rent_2_3beds            6322 non-null   float64\n",
      " 11  hpi_1f                        6719 non-null   float64\n",
      " 12  hpi_4f                        6719 non-null   float64\n",
      " 13  hpi_al                        6719 non-null   float64\n",
      " 14  hpi_cn                        6719 non-null   float64\n",
      " 15  hpi_ot                        6719 non-null   float64\n",
      " 16  lp_all                        6719 non-null   float64\n",
      " 17  lp_fam14condo_initial         6719 non-null   float64\n",
      " 18  lp_fam14condo_rate            6719 non-null   float64\n",
      " 19  lp_fam14condo_repeat          6719 non-null   float64\n",
      " 20  med_r_1f                      6719 non-null   float64\n",
      " 21  med_r_4f                      6719 non-null   float64\n",
      " 22  med_r_cn                      6719 non-null   float64\n",
      " 23  med_r_ot                      6719 non-null   float64\n",
      " 24  nb_permit_res_units           6719 non-null   float64\n",
      " 25  pfn_fam14condo                3581 non-null   float64\n",
      " 26  pfn_fam14condo_rate           3581 non-null   float64\n",
      " 27  priv_evic_amt_sought_med_adj  3723 non-null   float64\n",
      " 28  priv_evic_filing_rt           3723 non-null   float64\n",
      " 29  prox_park_pct                 254 non-null    float64\n",
      " 30  prox_subway_pct               254 non-null    float64\n",
      " 31  rent_asking_med               3816 non-null   float64\n",
      " 32  reo                           6626 non-null   float64\n",
      " 33  serious_viol_rate             6488 non-null   float64\n",
      " 34  total_viol_rate               6488 non-null   float64\n",
      " 35  units_cert                    6719 non-null   float64\n",
      " 36  volume_1f                     6719 non-null   float64\n",
      " 37  volume_4f                     6719 non-null   float64\n",
      " 38  volume_al                     6719 non-null   float64\n",
      " 39  volume_cn                     6719 non-null   float64\n",
      " 40  volume_ot                     6719 non-null   float64\n",
      " 41  hh_inc_med_adj                6376 non-null   float64\n",
      " 42  hh_inc_own_med_adj            6322 non-null   float64\n",
      " 43  hh_inc_rent_med_adj           6322 non-null   float64\n",
      " 44  hp_first_fhava_pct            6322 non-null   float64\n",
      " 45  hp_first_hi_pct               6229 non-null   float64\n",
      " 46  hp_first_orig                 6322 non-null   float64\n",
      " 47  hp_first_orig_lmi_app_pct     6322 non-null   float64\n",
      " 48  hp_first_orig_lmi_nbhd_pct    6322 non-null   float64\n",
      " 49  hp_first_orig_rt              6322 non-null   float64\n",
      " 50  population_density            5990 non-null   float64\n",
      " 51  refi_hi_pct                   6229 non-null   float64\n",
      " 52  refi_orig_rt                  6322 non-null   float64\n",
      " 53  rent_gross_med_adj            6376 non-null   float64\n",
      " 54  rent_pct_nycha                93 non-null     float64\n",
      " 55  unit_occ_own_pct              6376 non-null   float64\n",
      " 56  voucher_pct                   4090 non-null   float64\n",
      "dtypes: float64(53), int64(3), object(1)\n",
      "memory usage: 3.0+ MB\n"
     ]
    }
   ],
   "source": [
    "df.info()"
   ]
  },
  {
   "cell_type": "code",
   "execution_count": 118,
   "id": "c5561149",
   "metadata": {},
   "outputs": [
    {
     "data": {
      "text/plain": [
       "['pfn_fam14condo',\n",
       " 'pfn_fam14condo_rate',\n",
       " 'priv_evic_amt_sought_med_adj',\n",
       " 'priv_evic_filing_rt',\n",
       " 'prox_park_pct',\n",
       " 'prox_subway_pct',\n",
       " 'rent_asking_med',\n",
       " 'rent_pct_nycha',\n",
       " 'voucher_pct']"
      ]
     },
     "execution_count": 118,
     "metadata": {},
     "output_type": "execute_result"
    }
   ],
   "source": [
    "# List columns with high number of NaN values\n",
    "columns_to_drop=[]\n",
    "for col in df.columns:\n",
    "    if df[col].isna().sum()>2000:\n",
    "        columns_to_drop.append(col)\n",
    "\n",
    "columns_to_drop"
   ]
  },
  {
   "cell_type": "code",
   "execution_count": 119,
   "id": "190018b2",
   "metadata": {},
   "outputs": [],
   "source": [
    "# Drop these columns\n",
    "df.drop(columns=columns_to_drop,inplace=True)"
   ]
  },
  {
   "cell_type": "code",
   "execution_count": 120,
   "id": "869404c3",
   "metadata": {},
   "outputs": [],
   "source": [
    "# Drop remaining rows with NaN\n",
    "df.dropna(inplace=True)"
   ]
  },
  {
   "cell_type": "markdown",
   "id": "4fcd5f61",
   "metadata": {},
   "source": [
    "#### Save final data frame"
   ]
  },
  {
   "cell_type": "code",
   "execution_count": 122,
   "id": "15f108bb",
   "metadata": {},
   "outputs": [],
   "source": [
    "df.to_csv('../data/final_data.csv',index=False)"
   ]
  },
  {
   "cell_type": "code",
   "execution_count": null,
   "id": "7a545dcf",
   "metadata": {},
   "outputs": [],
   "source": []
  }
 ],
 "metadata": {
  "kernelspec": {
   "display_name": "Python 3 (ipykernel)",
   "language": "python",
   "name": "python3"
  },
  "language_info": {
   "codemirror_mode": {
    "name": "ipython",
    "version": 3
   },
   "file_extension": ".py",
   "mimetype": "text/x-python",
   "name": "python",
   "nbconvert_exporter": "python",
   "pygments_lexer": "ipython3",
   "version": "3.9.7"
  }
 },
 "nbformat": 4,
 "nbformat_minor": 5
}
