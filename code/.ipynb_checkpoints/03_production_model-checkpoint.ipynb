{
 "cells": [
  {
   "cell_type": "markdown",
   "id": "55c547d0",
   "metadata": {},
   "source": [
    "# Production Model"
   ]
  },
  {
   "cell_type": "markdown",
   "id": "25614161",
   "metadata": {},
   "source": [
    "#### Import libraries and data frame"
   ]
  },
  {
   "cell_type": "code",
   "execution_count": 178,
   "id": "7c771d3a",
   "metadata": {},
   "outputs": [],
   "source": [
    "import numpy as np\n",
    "import pandas as pd\n",
    "import matplotlib.pyplot as plt\n",
    "import seaborn as sns\n",
    "\n",
    "from sklearn import metrics\n",
    "from sklearn.preprocessing import StandardScaler\n",
    "from sklearn.model_selection import train_test_split,cross_val_score,GridSearchCV\n",
    "from sklearn.pipeline import Pipeline\n",
    "from sklearn.linear_model import LogisticRegression\n",
    "from sklearn.neighbors import KNeighborsClassifier\n",
    "from sklearn.tree import DecisionTreeClassifier\n",
    "from sklearn.ensemble import BaggingClassifier,RandomForestClassifier,AdaBoostClassifier,GradientBoostingClassifier\n",
    "\n",
    "from tensorflow.keras.models import Sequential\n",
    "from tensorflow.keras.layers import Dense\n",
    "from tensorflow.keras.utils import to_categorical\n"
   ]
  },
  {
   "cell_type": "code",
   "execution_count": 179,
   "id": "744ab7d5",
   "metadata": {},
   "outputs": [],
   "source": [
    "df=pd.read_csv('../data/final_data.csv')"
   ]
  },
  {
   "cell_type": "markdown",
   "id": "cfa5d631",
   "metadata": {},
   "source": [
    "## Baseline Model"
   ]
  },
  {
   "cell_type": "code",
   "execution_count": 180,
   "id": "e3189d9a",
   "metadata": {},
   "outputs": [
    {
     "data": {
      "text/plain": [
       "0    0.750042\n",
       "1    0.249958\n",
       "Name: 421a, dtype: float64"
      ]
     },
     "execution_count": 180,
     "metadata": {},
     "output_type": "execute_result"
    }
   ],
   "source": [
    "df['421a'].value_counts(normalize=True)"
   ]
  },
  {
   "cell_type": "markdown",
   "id": "31d58002",
   "metadata": {},
   "source": [
    "Using the mean to predict the classification value will be correct 75% of the time."
   ]
  },
  {
   "cell_type": "markdown",
   "id": "8806b6b2",
   "metadata": {},
   "source": [
    "## Model Setup"
   ]
  },
  {
   "cell_type": "code",
   "execution_count": 181,
   "id": "e58ea5b9",
   "metadata": {},
   "outputs": [],
   "source": [
    "# Bring in list of features from EDA notebook\n",
    "features=['year_filed','gross_rent_0_1beds','hpi_ot','lp_fam14condo_rate','nb_permit_res_units','total_viol_rate','hp_first_orig_lmi_nbhd_pct','refi_orig_rt']"
   ]
  },
  {
   "cell_type": "code",
   "execution_count": 182,
   "id": "745b98a4",
   "metadata": {},
   "outputs": [],
   "source": [
    "# Define X and y\n",
    "X=df[features]\n",
    "y=df['421a']"
   ]
  },
  {
   "cell_type": "code",
   "execution_count": 183,
   "id": "dded2fec",
   "metadata": {},
   "outputs": [],
   "source": [
    "# Train test split\n",
    "X_train,X_test,y_train,y_test=train_test_split(X,y,random_state=42)"
   ]
  },
  {
   "cell_type": "code",
   "execution_count": 184,
   "id": "a224ef08",
   "metadata": {},
   "outputs": [],
   "source": [
    "# Scale data (to be used as needed)\n",
    "ss=StandardScaler()\n",
    "X_train_sc=ss.fit_transform(X_train)\n",
    "X_test_sc=ss.transform(X_test)"
   ]
  },
  {
   "cell_type": "markdown",
   "id": "79f7f447",
   "metadata": {},
   "source": [
    "## Model Selection"
   ]
  },
  {
   "cell_type": "markdown",
   "id": "c4c43624",
   "metadata": {},
   "source": [
    "Determine best model though comparison of performance metrics for the following classification models:\n",
    "> i. Logistic Regression <br>\n",
    "> ii. K-Nearest Neighbors  <br>\n",
    "> iii. Decision Tree <br>\n",
    "> iv. Random Forest <br>\n",
    "> v. AdaBoost <br>\n",
    "> vi. GradientBoost"
   ]
  },
  {
   "cell_type": "code",
   "execution_count": 193,
   "id": "42ecaf89",
   "metadata": {},
   "outputs": [],
   "source": [
    "model_comparison=pd.DataFrame(columns=['model','cross_val_score','train_score','test_score','train_accuracy','test_accuracy'])\n"
   ]
  },
  {
   "cell_type": "code",
   "execution_count": 194,
   "id": "c87daed0",
   "metadata": {},
   "outputs": [
    {
     "data": {
      "text/html": [
       "<div>\n",
       "<style scoped>\n",
       "    .dataframe tbody tr th:only-of-type {\n",
       "        vertical-align: middle;\n",
       "    }\n",
       "\n",
       "    .dataframe tbody tr th {\n",
       "        vertical-align: top;\n",
       "    }\n",
       "\n",
       "    .dataframe thead th {\n",
       "        text-align: right;\n",
       "    }\n",
       "</style>\n",
       "<table border=\"1\" class=\"dataframe\">\n",
       "  <thead>\n",
       "    <tr style=\"text-align: right;\">\n",
       "      <th></th>\n",
       "      <th>model</th>\n",
       "      <th>cross_val_score</th>\n",
       "      <th>train_score</th>\n",
       "      <th>test_score</th>\n",
       "      <th>train_accuracy</th>\n",
       "      <th>test_accuracy</th>\n",
       "    </tr>\n",
       "  </thead>\n",
       "  <tbody>\n",
       "  </tbody>\n",
       "</table>\n",
       "</div>"
      ],
      "text/plain": [
       "Empty DataFrame\n",
       "Columns: [model, cross_val_score, train_score, test_score, train_accuracy, test_accuracy]\n",
       "Index: []"
      ]
     },
     "execution_count": 194,
     "metadata": {},
     "output_type": "execute_result"
    }
   ],
   "source": [
    "model_comparison.head()"
   ]
  },
  {
   "cell_type": "markdown",
   "id": "95333644",
   "metadata": {},
   "source": [
    "#### i. Logistic Regression"
   ]
  },
  {
   "cell_type": "code",
   "execution_count": 201,
   "id": "e33fcb54",
   "metadata": {},
   "outputs": [
    {
     "name": "stdout",
     "output_type": "stream",
     "text": [
      "Logistic Regression Cross Val Score: 0.7541838586803691.\n",
      "Logistic Regression Train Score: 0.7541836273179556.\n",
      "Logistic Regression Test Score: 0.7376271186440678.\n",
      "              precision    recall  f1-score   support\n",
      "\n",
      "           0       0.74      1.00      0.85      1088\n",
      "           1       0.00      0.00      0.00       387\n",
      "\n",
      "    accuracy                           0.74      1475\n",
      "   macro avg       0.37      0.50      0.42      1475\n",
      "weighted avg       0.54      0.74      0.63      1475\n",
      "\n"
     ]
    },
    {
     "name": "stderr",
     "output_type": "stream",
     "text": [
      "/Users/Suzanne/opt/anaconda3/lib/python3.9/site-packages/sklearn/metrics/_classification.py:1248: UndefinedMetricWarning: Precision and F-score are ill-defined and being set to 0.0 in labels with no predicted samples. Use `zero_division` parameter to control this behavior.\n",
      "  _warn_prf(average, modifier, msg_start, len(result))\n",
      "/Users/Suzanne/opt/anaconda3/lib/python3.9/site-packages/sklearn/metrics/_classification.py:1248: UndefinedMetricWarning: Precision and F-score are ill-defined and being set to 0.0 in labels with no predicted samples. Use `zero_division` parameter to control this behavior.\n",
      "  _warn_prf(average, modifier, msg_start, len(result))\n",
      "/Users/Suzanne/opt/anaconda3/lib/python3.9/site-packages/sklearn/metrics/_classification.py:1248: UndefinedMetricWarning: Precision and F-score are ill-defined and being set to 0.0 in labels with no predicted samples. Use `zero_division` parameter to control this behavior.\n",
      "  _warn_prf(average, modifier, msg_start, len(result))\n"
     ]
    }
   ],
   "source": [
    "lr=LogisticRegression()\n",
    "lr.fit(X_train_sc,y_train)\n",
    "\n",
    "cv_score=cross_val_score(lr,X_train_sc,y_train).mean()\n",
    "train_score=lr.score(X_train_sc,y_train)\n",
    "test_score=lr.score(X_test_sc,y_test)\n",
    "train_accuracy=metrics.accuracy_score(y_train,lr.predict(X_train_sc))\n",
    "test_accuracy=metrics.accuracy_score(y_test,lr.predict(X_test_sc))\n",
    "\n",
    "print(f'Logistic Regression Cross Val Score: {cv_score}.')\n",
    "print(f'Logistic Regression Train Score: {train_score}.')\n",
    "print(f'Logistic Regression Test Score: {test_score}.')\n",
    "print(metrics.classification_report(y_test,lr.predict(X_test_sc)))\n",
    "\n",
    "model_comparison.loc[len(model_comparison.index)]=['Logistic Regression',cv_score,train_score,test_score,train_accuracy,test_accuracy]\n"
   ]
  },
  {
   "cell_type": "markdown",
   "id": "508242ac",
   "metadata": {},
   "source": [
    "#### ii. K-Nearest Neighbors"
   ]
  },
  {
   "cell_type": "code",
   "execution_count": 195,
   "id": "20ca2310",
   "metadata": {},
   "outputs": [
    {
     "name": "stdout",
     "output_type": "stream",
     "text": [
      "KNN Cross Val Score: 0.7351849579466728.\n",
      "KNN Train Score: 0.7607417458163727.\n",
      "KNN Test Score: 0.7315254237288136.\n",
      "              precision    recall  f1-score   support\n",
      "\n",
      "           0       0.78      0.89      0.83      1088\n",
      "           1       0.48      0.30      0.37       387\n",
      "\n",
      "    accuracy                           0.73      1475\n",
      "   macro avg       0.63      0.59      0.60      1475\n",
      "weighted avg       0.70      0.73      0.71      1475\n",
      "\n"
     ]
    }
   ],
   "source": [
    "knn=KNeighborsClassifier()\n",
    "knn.fit(X_train_sc,y_train)\n",
    "\n",
    "cv_score=cross_val_score(knn,X_train_sc,y_train).mean()\n",
    "train_score=knn.score(X_train_sc,y_train)\n",
    "test_score=knn.score(X_test_sc,y_test)\n",
    "train_accuracy=metrics.accuracy_score(y_train,knn.predict(X_train_sc))\n",
    "test_accuracy=metrics.accuracy_score(y_test,knn.predict(X_test_sc))\n",
    "\n",
    "print(f'KNN Cross Val Score: {cv_score}.')\n",
    "print(f'KNN Train Score: {train_score}.')\n",
    "print(f'KNN Test Score: {test_score}.')\n",
    "print(metrics.classification_report(y_test,knn.predict(X_test_sc)))\n",
    "\n",
    "model_comparison.loc[len(model_comparison.index)]=['KNN',cv_score,train_score,test_score,train_accuracy,test_accuracy]\n"
   ]
  },
  {
   "cell_type": "markdown",
   "id": "9040426c",
   "metadata": {},
   "source": [
    "#### iii. Decision Tree"
   ]
  },
  {
   "cell_type": "code",
   "execution_count": 196,
   "id": "a039137b",
   "metadata": {},
   "outputs": [
    {
     "name": "stdout",
     "output_type": "stream",
     "text": [
      "Decision Tree Cross Val Score: 0.7521471482986937.\n",
      "Decision Tree Train Score: 0.7944369063772049.\n",
      "Decision Tree Test Score: 0.7484745762711864.\n",
      "              precision    recall  f1-score   support\n",
      "\n",
      "           0       0.77      0.93      0.85      1088\n",
      "           1       0.55      0.24      0.33       387\n",
      "\n",
      "    accuracy                           0.75      1475\n",
      "   macro avg       0.66      0.58      0.59      1475\n",
      "weighted avg       0.71      0.75      0.71      1475\n",
      "\n"
     ]
    }
   ],
   "source": [
    "dt=DecisionTreeClassifier()\n",
    "dt.fit(X_train_sc,y_train)\n",
    "\n",
    "cv_score=cross_val_score(dt,X_train_sc,y_train).mean()\n",
    "train_score=dt.score(X_train_sc,y_train)\n",
    "test_score=dt.score(X_test_sc,y_test)\n",
    "train_accuracy=metrics.accuracy_score(y_train,dt.predict(X_train_sc))\n",
    "test_accuracy=metrics.accuracy_score(y_test,dt.predict(X_test_sc))\n",
    "\n",
    "print(f'Decision Tree Cross Val Score: {cv_score}.')\n",
    "print(f'Decision Tree Train Score: {train_score}.')\n",
    "print(f'Decision Tree Test Score: {test_score}.')\n",
    "print(metrics.classification_report(y_test,dt.predict(X_test_sc)))\n",
    "\n",
    "model_comparison.loc[len(model_comparison.index)]=['Decision Tree',cv_score,train_score,test_score,train_accuracy,test_accuracy]\n"
   ]
  },
  {
   "cell_type": "markdown",
   "id": "00edd6af",
   "metadata": {},
   "source": [
    "#### iv. Random Forest"
   ]
  },
  {
   "cell_type": "code",
   "execution_count": 197,
   "id": "632a07e1",
   "metadata": {},
   "outputs": [
    {
     "name": "stdout",
     "output_type": "stream",
     "text": [
      "Random Forest Cross Val Score: 0.7487514379937112.\n",
      "Random Forest Train Score: 0.7944369063772049.\n",
      "Random Forest Test Score: 0.751864406779661.\n",
      "              precision    recall  f1-score   support\n",
      "\n",
      "           0       0.78      0.92      0.85      1088\n",
      "           1       0.55      0.28      0.37       387\n",
      "\n",
      "    accuracy                           0.75      1475\n",
      "   macro avg       0.67      0.60      0.61      1475\n",
      "weighted avg       0.72      0.75      0.72      1475\n",
      "\n"
     ]
    }
   ],
   "source": [
    "rf=RandomForestClassifier()\n",
    "rf.fit(X_train_sc,y_train)\n",
    "\n",
    "cv_score=cross_val_score(rf,X_train_sc,y_train).mean()\n",
    "train_score=rf.score(X_train_sc,y_train)\n",
    "test_score=rf.score(X_test_sc,y_test)\n",
    "train_accuracy=metrics.accuracy_score(y_train,rf.predict(X_train_sc))\n",
    "test_accuracy=metrics.accuracy_score(y_test,rf.predict(X_test_sc))\n",
    "\n",
    "print(f'Random Forest Cross Val Score: {cv_score}.')\n",
    "print(f'Random Forest Train Score: {train_score}.')\n",
    "print(f'Random Forest Test Score: {test_score}.')\n",
    "print(metrics.classification_report(y_test,rf.predict(X_test_sc)))\n",
    "\n",
    "model_comparison.loc[len(model_comparison.index)]=['Random Forest',cv_score,train_score,test_score,train_accuracy,test_accuracy]\n"
   ]
  },
  {
   "cell_type": "markdown",
   "id": "cfbb61bf",
   "metadata": {},
   "source": [
    "#### v. AdaBoost"
   ]
  },
  {
   "cell_type": "code",
   "execution_count": 198,
   "id": "1bd9b401",
   "metadata": {},
   "outputs": [
    {
     "name": "stdout",
     "output_type": "stream",
     "text": [
      "AdaBoost Cross Val Score: 0.7487562952169133.\n",
      "AdaBoost Train Score: 0.7591587516960652.\n",
      "AdaBoost Test Score: 0.7389830508474576.\n",
      "              precision    recall  f1-score   support\n",
      "\n",
      "           0       0.74      0.99      0.85      1088\n",
      "           1       0.55      0.03      0.05       387\n",
      "\n",
      "    accuracy                           0.74      1475\n",
      "   macro avg       0.65      0.51      0.45      1475\n",
      "weighted avg       0.69      0.74      0.64      1475\n",
      "\n"
     ]
    }
   ],
   "source": [
    "ada=AdaBoostClassifier()\n",
    "ada.fit(X_train_sc,y_train)\n",
    "\n",
    "cv_score=cross_val_score(ada,X_train_sc,y_train).mean()\n",
    "train_score=ada.score(X_train_sc,y_train)\n",
    "test_score=ada.score(X_test_sc,y_test)\n",
    "train_accuracy=metrics.accuracy_score(y_train,ada.predict(X_train_sc))\n",
    "test_accuracy=metrics.accuracy_score(y_test,ada.predict(X_test_sc))\n",
    "\n",
    "print(f'AdaBoost Cross Val Score: {cv_score}.')\n",
    "print(f'AdaBoost Train Score: {train_score}.')\n",
    "print(f'AdaBoost Test Score: {test_score}.')\n",
    "print(metrics.classification_report(y_test,ada.predict(X_test_sc)))\n",
    "\n",
    "model_comparison.loc[len(model_comparison.index)]=['AdaBoost',cv_score,train_score,test_score,train_accuracy,test_accuracy]\n"
   ]
  },
  {
   "cell_type": "markdown",
   "id": "e0f0eb7b",
   "metadata": {},
   "source": [
    "#### vi. GradientBoost"
   ]
  },
  {
   "cell_type": "code",
   "execution_count": 209,
   "id": "4ba162ea",
   "metadata": {},
   "outputs": [
    {
     "name": "stdout",
     "output_type": "stream",
     "text": [
      "GradientBoost Cross Val Score: 0.7535058925786743.\n",
      "GradientBoost Train Score: 0.770239710538218.\n",
      "GradientBoost Test Score: 0.752542372881356.\n",
      "              precision    recall  f1-score   support\n",
      "\n",
      "           0       0.75      0.99      0.86      1088\n",
      "           1       0.78      0.08      0.15       387\n",
      "\n",
      "    accuracy                           0.75      1475\n",
      "   macro avg       0.76      0.54      0.50      1475\n",
      "weighted avg       0.76      0.75      0.67      1475\n",
      "\n"
     ]
    }
   ],
   "source": [
    "gb=GradientBoostingClassifier()\n",
    "gb.fit(X_train_sc,y_train)\n",
    "\n",
    "cv_score=cross_val_score(gb,X_train_sc,y_train).mean()\n",
    "train_score=gb.score(X_train_sc,y_train)\n",
    "test_score=gb.score(X_test_sc,y_test)\n",
    "train_accuracy=metrics.accuracy_score(y_train,gb.predict(X_train_sc))\n",
    "test_accuracy=metrics.accuracy_score(y_test,gb.predict(X_test_sc))\n",
    "\n",
    "print(f'GradientBoost Cross Val Score: {cv_score}.')\n",
    "print(f'GradientBoost Train Score: {train_score}.')\n",
    "print(f'GradientBoost Test Score: {test_score}.')\n",
    "print(metrics.classification_report(y_test,gb.predict(X_test_sc)))\n",
    "\n",
    "model_comparison.loc[len(model_comparison.index)]=['GradientBoost',cv_score,train_score,test_score,train_accuracy,test_accuracy]\n"
   ]
  },
  {
   "cell_type": "code",
   "execution_count": 20,
   "id": "8db42240",
   "metadata": {},
   "outputs": [
    {
     "data": {
      "text/html": [
       "<div>\n",
       "<style scoped>\n",
       "    .dataframe tbody tr th:only-of-type {\n",
       "        vertical-align: middle;\n",
       "    }\n",
       "\n",
       "    .dataframe tbody tr th {\n",
       "        vertical-align: top;\n",
       "    }\n",
       "\n",
       "    .dataframe thead th {\n",
       "        text-align: right;\n",
       "    }\n",
       "</style>\n",
       "<table border=\"1\" class=\"dataframe\">\n",
       "  <thead>\n",
       "    <tr style=\"text-align: right;\">\n",
       "      <th></th>\n",
       "      <th>model</th>\n",
       "      <th>cross_val_score</th>\n",
       "      <th>train_score</th>\n",
       "      <th>test_score</th>\n",
       "      <th>train_accuracy</th>\n",
       "      <th>test_accuracy</th>\n",
       "    </tr>\n",
       "  </thead>\n",
       "  <tbody>\n",
       "    <tr>\n",
       "      <th>0</th>\n",
       "      <td>Logistic Regression</td>\n",
       "      <td>0.746495</td>\n",
       "      <td>0.746495</td>\n",
       "      <td>0.760678</td>\n",
       "      <td>0.746495</td>\n",
       "      <td>0.760678</td>\n",
       "    </tr>\n",
       "    <tr>\n",
       "      <th>1</th>\n",
       "      <td>KNN</td>\n",
       "      <td>0.713707</td>\n",
       "      <td>0.764586</td>\n",
       "      <td>0.739661</td>\n",
       "      <td>0.764586</td>\n",
       "      <td>0.739661</td>\n",
       "    </tr>\n",
       "    <tr>\n",
       "      <th>2</th>\n",
       "      <td>Decision Tree</td>\n",
       "      <td>0.739033</td>\n",
       "      <td>0.786296</td>\n",
       "      <td>0.770169</td>\n",
       "      <td>0.786296</td>\n",
       "      <td>0.770169</td>\n",
       "    </tr>\n",
       "    <tr>\n",
       "      <th>3</th>\n",
       "      <td>Random Forest</td>\n",
       "      <td>0.732024</td>\n",
       "      <td>0.786296</td>\n",
       "      <td>0.766102</td>\n",
       "      <td>0.786296</td>\n",
       "      <td>0.766102</td>\n",
       "    </tr>\n",
       "    <tr>\n",
       "      <th>4</th>\n",
       "      <td>AdaBoost</td>\n",
       "      <td>0.748078</td>\n",
       "      <td>0.757123</td>\n",
       "      <td>0.758644</td>\n",
       "      <td>0.757123</td>\n",
       "      <td>0.758644</td>\n",
       "    </tr>\n",
       "    <tr>\n",
       "      <th>5</th>\n",
       "      <td>GradientBoost</td>\n",
       "      <td>0.749888</td>\n",
       "      <td>0.766395</td>\n",
       "      <td>0.770169</td>\n",
       "      <td>0.766395</td>\n",
       "      <td>0.770169</td>\n",
       "    </tr>\n",
       "  </tbody>\n",
       "</table>\n",
       "</div>"
      ],
      "text/plain": [
       "                 model  cross_val_score  train_score  test_score  \\\n",
       "0  Logistic Regression         0.746495     0.746495    0.760678   \n",
       "1                  KNN         0.713707     0.764586    0.739661   \n",
       "2        Decision Tree         0.739033     0.786296    0.770169   \n",
       "3        Random Forest         0.732024     0.786296    0.766102   \n",
       "4             AdaBoost         0.748078     0.757123    0.758644   \n",
       "5        GradientBoost         0.749888     0.766395    0.770169   \n",
       "\n",
       "   train_accuracy  test_accuracy  \n",
       "0        0.746495       0.760678  \n",
       "1        0.764586       0.739661  \n",
       "2        0.786296       0.770169  \n",
       "3        0.786296       0.766102  \n",
       "4        0.757123       0.758644  \n",
       "5        0.766395       0.770169  "
      ]
     },
     "execution_count": 20,
     "metadata": {},
     "output_type": "execute_result"
    }
   ],
   "source": [
    "model_comparison"
   ]
  },
  {
   "cell_type": "code",
   "execution_count": 31,
   "id": "15487c3d",
   "metadata": {
    "scrolled": false
   },
   "outputs": [
    {
     "data": {
      "text/html": [
       "<div>\n",
       "<style scoped>\n",
       "    .dataframe tbody tr th:only-of-type {\n",
       "        vertical-align: middle;\n",
       "    }\n",
       "\n",
       "    .dataframe tbody tr th {\n",
       "        vertical-align: top;\n",
       "    }\n",
       "\n",
       "    .dataframe thead th {\n",
       "        text-align: right;\n",
       "    }\n",
       "</style>\n",
       "<table border=\"1\" class=\"dataframe\">\n",
       "  <thead>\n",
       "    <tr style=\"text-align: right;\">\n",
       "      <th></th>\n",
       "      <th>model</th>\n",
       "      <th>cross_val_score</th>\n",
       "      <th>train_score</th>\n",
       "      <th>test_score</th>\n",
       "      <th>train_accuracy</th>\n",
       "      <th>test_accuracy</th>\n",
       "    </tr>\n",
       "  </thead>\n",
       "  <tbody>\n",
       "    <tr>\n",
       "      <th>5</th>\n",
       "      <td>GradientBoost</td>\n",
       "      <td>0.749888</td>\n",
       "      <td>0.766395</td>\n",
       "      <td>0.770169</td>\n",
       "      <td>0.766395</td>\n",
       "      <td>0.770169</td>\n",
       "    </tr>\n",
       "    <tr>\n",
       "      <th>4</th>\n",
       "      <td>AdaBoost</td>\n",
       "      <td>0.748078</td>\n",
       "      <td>0.757123</td>\n",
       "      <td>0.758644</td>\n",
       "      <td>0.757123</td>\n",
       "      <td>0.758644</td>\n",
       "    </tr>\n",
       "    <tr>\n",
       "      <th>0</th>\n",
       "      <td>Logistic Regression</td>\n",
       "      <td>0.746495</td>\n",
       "      <td>0.746495</td>\n",
       "      <td>0.760678</td>\n",
       "      <td>0.746495</td>\n",
       "      <td>0.760678</td>\n",
       "    </tr>\n",
       "    <tr>\n",
       "      <th>2</th>\n",
       "      <td>Decision Tree</td>\n",
       "      <td>0.739033</td>\n",
       "      <td>0.786296</td>\n",
       "      <td>0.770169</td>\n",
       "      <td>0.786296</td>\n",
       "      <td>0.770169</td>\n",
       "    </tr>\n",
       "    <tr>\n",
       "      <th>3</th>\n",
       "      <td>Random Forest</td>\n",
       "      <td>0.732024</td>\n",
       "      <td>0.786296</td>\n",
       "      <td>0.766102</td>\n",
       "      <td>0.786296</td>\n",
       "      <td>0.766102</td>\n",
       "    </tr>\n",
       "    <tr>\n",
       "      <th>1</th>\n",
       "      <td>KNN</td>\n",
       "      <td>0.713707</td>\n",
       "      <td>0.764586</td>\n",
       "      <td>0.739661</td>\n",
       "      <td>0.764586</td>\n",
       "      <td>0.739661</td>\n",
       "    </tr>\n",
       "  </tbody>\n",
       "</table>\n",
       "</div>"
      ],
      "text/plain": [
       "                 model  cross_val_score  train_score  test_score  \\\n",
       "5        GradientBoost         0.749888     0.766395    0.770169   \n",
       "4             AdaBoost         0.748078     0.757123    0.758644   \n",
       "0  Logistic Regression         0.746495     0.746495    0.760678   \n",
       "2        Decision Tree         0.739033     0.786296    0.770169   \n",
       "3        Random Forest         0.732024     0.786296    0.766102   \n",
       "1                  KNN         0.713707     0.764586    0.739661   \n",
       "\n",
       "   train_accuracy  test_accuracy  \n",
       "5        0.766395       0.770169  \n",
       "4        0.757123       0.758644  \n",
       "0        0.746495       0.760678  \n",
       "2        0.786296       0.770169  \n",
       "3        0.786296       0.766102  \n",
       "1        0.764586       0.739661  "
      ]
     },
     "execution_count": 31,
     "metadata": {},
     "output_type": "execute_result"
    }
   ],
   "source": [
    "model_comparison.sort_values('cross_val_score',ascending=False)"
   ]
  },
  {
   "cell_type": "code",
   "execution_count": 30,
   "id": "60e4c3b4",
   "metadata": {},
   "outputs": [
    {
     "data": {
      "text/html": [
       "<div>\n",
       "<style scoped>\n",
       "    .dataframe tbody tr th:only-of-type {\n",
       "        vertical-align: middle;\n",
       "    }\n",
       "\n",
       "    .dataframe tbody tr th {\n",
       "        vertical-align: top;\n",
       "    }\n",
       "\n",
       "    .dataframe thead th {\n",
       "        text-align: right;\n",
       "    }\n",
       "</style>\n",
       "<table border=\"1\" class=\"dataframe\">\n",
       "  <thead>\n",
       "    <tr style=\"text-align: right;\">\n",
       "      <th></th>\n",
       "      <th>model</th>\n",
       "      <th>cross_val_score</th>\n",
       "      <th>train_score</th>\n",
       "      <th>test_score</th>\n",
       "      <th>train_accuracy</th>\n",
       "      <th>test_accuracy</th>\n",
       "    </tr>\n",
       "  </thead>\n",
       "  <tbody>\n",
       "    <tr>\n",
       "      <th>2</th>\n",
       "      <td>Decision Tree</td>\n",
       "      <td>0.739033</td>\n",
       "      <td>0.786296</td>\n",
       "      <td>0.770169</td>\n",
       "      <td>0.786296</td>\n",
       "      <td>0.770169</td>\n",
       "    </tr>\n",
       "    <tr>\n",
       "      <th>5</th>\n",
       "      <td>GradientBoost</td>\n",
       "      <td>0.749888</td>\n",
       "      <td>0.766395</td>\n",
       "      <td>0.770169</td>\n",
       "      <td>0.766395</td>\n",
       "      <td>0.770169</td>\n",
       "    </tr>\n",
       "    <tr>\n",
       "      <th>3</th>\n",
       "      <td>Random Forest</td>\n",
       "      <td>0.732024</td>\n",
       "      <td>0.786296</td>\n",
       "      <td>0.766102</td>\n",
       "      <td>0.786296</td>\n",
       "      <td>0.766102</td>\n",
       "    </tr>\n",
       "    <tr>\n",
       "      <th>0</th>\n",
       "      <td>Logistic Regression</td>\n",
       "      <td>0.746495</td>\n",
       "      <td>0.746495</td>\n",
       "      <td>0.760678</td>\n",
       "      <td>0.746495</td>\n",
       "      <td>0.760678</td>\n",
       "    </tr>\n",
       "    <tr>\n",
       "      <th>4</th>\n",
       "      <td>AdaBoost</td>\n",
       "      <td>0.748078</td>\n",
       "      <td>0.757123</td>\n",
       "      <td>0.758644</td>\n",
       "      <td>0.757123</td>\n",
       "      <td>0.758644</td>\n",
       "    </tr>\n",
       "    <tr>\n",
       "      <th>1</th>\n",
       "      <td>KNN</td>\n",
       "      <td>0.713707</td>\n",
       "      <td>0.764586</td>\n",
       "      <td>0.739661</td>\n",
       "      <td>0.764586</td>\n",
       "      <td>0.739661</td>\n",
       "    </tr>\n",
       "  </tbody>\n",
       "</table>\n",
       "</div>"
      ],
      "text/plain": [
       "                 model  cross_val_score  train_score  test_score  \\\n",
       "2        Decision Tree         0.739033     0.786296    0.770169   \n",
       "5        GradientBoost         0.749888     0.766395    0.770169   \n",
       "3        Random Forest         0.732024     0.786296    0.766102   \n",
       "0  Logistic Regression         0.746495     0.746495    0.760678   \n",
       "4             AdaBoost         0.748078     0.757123    0.758644   \n",
       "1                  KNN         0.713707     0.764586    0.739661   \n",
       "\n",
       "   train_accuracy  test_accuracy  \n",
       "2        0.786296       0.770169  \n",
       "5        0.766395       0.770169  \n",
       "3        0.786296       0.766102  \n",
       "0        0.746495       0.760678  \n",
       "4        0.757123       0.758644  \n",
       "1        0.764586       0.739661  "
      ]
     },
     "execution_count": 30,
     "metadata": {},
     "output_type": "execute_result"
    }
   ],
   "source": [
    "model_comparison.sort_values('test_accuracy',ascending=False)"
   ]
  },
  {
   "cell_type": "markdown",
   "id": "d1fdff91",
   "metadata": {},
   "source": [
    "GradientBoost has the highest performance based on cross_val_score and test_accuracy metrics."
   ]
  },
  {
   "cell_type": "markdown",
   "id": "7bd682c8",
   "metadata": {},
   "source": [
    "## Model Refinement"
   ]
  },
  {
   "cell_type": "code",
   "execution_count": 32,
   "id": "b13cae03",
   "metadata": {},
   "outputs": [
    {
     "name": "stdout",
     "output_type": "stream",
     "text": [
      "0.7503402612674795\n"
     ]
    },
    {
     "data": {
      "text/plain": [
       "{'learning_rate': 0.1,\n",
       " 'loss': 'exponential',\n",
       " 'max_depth': 3,\n",
       " 'min_samples_leaf': 1,\n",
       " 'min_samples_split': 2,\n",
       " 'n_estimators': 100}"
      ]
     },
     "execution_count": 32,
     "metadata": {},
     "output_type": "execute_result"
    }
   ],
   "source": [
    "# Use GridSearchCV to determine best parameters for GradientBoost\n",
    "params={\n",
    "    'loss':['deviance','exponential'],\n",
    "    'learning_rate':[.1,.25,.75],\n",
    "    'n_estimators':[50,75,100],\n",
    "    'min_samples_split':[2,3,4],\n",
    "    'min_samples_leaf':[1,2],\n",
    "    'max_depth':[3,5]\n",
    "}\n",
    "\n",
    "gs=GridSearchCV(GradientBoostingClassifier(),param_grid=params,verbose=0)\n",
    "gs.fit(X_train_sc,y_train)\n",
    "print(gs.best_score_)\n",
    "gs.best_params_"
   ]
  },
  {
   "cell_type": "code",
   "execution_count": 35,
   "id": "6b2f38b8",
   "metadata": {},
   "outputs": [
    {
     "data": {
      "text/plain": [
       "GradientBoostingClassifier(loss='exponential')"
      ]
     },
     "execution_count": 35,
     "metadata": {},
     "output_type": "execute_result"
    }
   ],
   "source": [
    "# Instantiate final production model with best parameters\n",
    "gb=GradientBoostingClassifier(learning_rate=.1,loss='exponential',max_depth=3,min_samples_leaf=1,min_samples_split=2,n_estimators=100)\n",
    "gb.fit(X_train_sc,y_train)"
   ]
  },
  {
   "cell_type": "markdown",
   "id": "cb4a9ee1",
   "metadata": {},
   "source": [
    "## Model Performance"
   ]
  },
  {
   "cell_type": "code",
   "execution_count": 36,
   "id": "82551bda",
   "metadata": {},
   "outputs": [
    {
     "name": "stdout",
     "output_type": "stream",
     "text": [
      "GradientBoost Cross Val Score: 0.7503402612674795.\n",
      "GradientBoost Train Score: 0.762550881953867.\n",
      "GradientBoost Test Score: 0.7667796610169492.\n"
     ]
    }
   ],
   "source": [
    "cv_score=cross_val_score(gb,X_train_sc,y_train).mean()\n",
    "train_score=gb.score(X_train_sc,y_train)\n",
    "test_score=gb.score(X_test_sc,y_test)\n",
    "\n",
    "print(f'GradientBoost Cross Val Score: {cv_score}.')\n",
    "print(f'GradientBoost Train Score: {train_score}.')\n",
    "print(f'GradientBoost Test Score: {test_score}.')"
   ]
  },
  {
   "cell_type": "code",
   "execution_count": 28,
   "id": "4436d2b2",
   "metadata": {
    "scrolled": true
   },
   "outputs": [
    {
     "name": "stdout",
     "output_type": "stream",
     "text": [
      "              precision    recall  f1-score   support\n",
      "\n",
      "           0       0.78      0.97      0.87      1122\n",
      "           1       0.62      0.15      0.24       353\n",
      "\n",
      "    accuracy                           0.77      1475\n",
      "   macro avg       0.70      0.56      0.55      1475\n",
      "weighted avg       0.74      0.77      0.72      1475\n",
      "\n"
     ]
    }
   ],
   "source": [
    "print(metrics.classification_report(y_test,gb.predict(X_test_sc)))"
   ]
  },
  {
   "cell_type": "code",
   "execution_count": 29,
   "id": "033eeb70",
   "metadata": {},
   "outputs": [
    {
     "data": {
      "text/plain": [
       "(1090, 32, 301, 52)"
      ]
     },
     "execution_count": 29,
     "metadata": {},
     "output_type": "execute_result"
    }
   ],
   "source": [
    "tn=metrics.confusion_matrix(y_test,gb.predict(X_test_sc))[0][0]\n",
    "fp=metrics.confusion_matrix(y_test,gb.predict(X_test_sc))[0][1]\n",
    "fn=metrics.confusion_matrix(y_test,gb.predict(X_test_sc))[1][0]\n",
    "tp=metrics.confusion_matrix(y_test,gb.predict(X_test_sc))[1][1]\n",
    "\n",
    "tn,fp,fn,tp"
   ]
  },
  {
   "cell_type": "code",
   "execution_count": 40,
   "id": "b8efab4a",
   "metadata": {},
   "outputs": [
    {
     "name": "stdout",
     "output_type": "stream",
     "text": [
      "GradientBoost Accuracy: 0.7742372881355932\n",
      "GradientBoost Misclassification: 0.22576271186440677\n",
      "GradientBoost Sensitivity: 0.14730878186968838\n",
      "GradientBoost Specificity: 0.9714795008912656\n",
      "GradientBoost Precision: 0.6190476190476191\n"
     ]
    }
   ],
   "source": [
    "print(f'GradientBoost Accuracy: {(tp+tn)/(tp+tn+fp+fn)}')\n",
    "print(f'GradientBoost Misclassification: {1-((tp+tn)/(tp+tn+fp+fn))}')\n",
    "print(f'GradientBoost Sensitivity: {tp/(tp+fn)}')\n",
    "print(f'GradientBoost Specificity: {tn/(tn+fp)}')\n",
    "print(f'GradientBoost Precision: {tp/(tp+fp)}')\n"
   ]
  },
  {
   "cell_type": "code",
   "execution_count": 41,
   "id": "69207274",
   "metadata": {},
   "outputs": [
    {
     "data": {
      "image/png": "[encoded data removed]",
      "text/plain": [
       "<Figure size 432x288 with 2 Axes>"
      ]
     },
     "metadata": {
      "needs_background": "light"
     },
     "output_type": "display_data"
    }
   ],
   "source": [
    "# Formatting code sourced from: https://www.stackvidhya.com/plot-confusion-matrix-in-python-and-why/\n",
    "cf_matrix=metrics.confusion_matrix(y_test,gb.predict(X_test_sc))\n",
    "\n",
    "group_names = ['True Neg','False Pos','False Neg','True Pos']\n",
    "group_counts = [\"{0:0.0f}\".format(value) for value in\n",
    "                cf_matrix.flatten()]\n",
    "group_percentages = [\"{0:.2%}\".format(value) for value in\n",
    "                     cf_matrix.flatten()/np.sum(cf_matrix)]\n",
    "labels = [f\"{v1}\\n{v2}\\n{v3}\" for v1, v2, v3 in\n",
    "          zip(group_names,group_counts,group_percentages)]\n",
    "labels = np.asarray(labels).reshape(2,2)\n",
    "\n",
    "ax = sns.heatmap(cf_matrix, annot=labels, fmt='', cmap='Blues')\n",
    "ax.set_title('Confusion Matrix\\n');\n",
    "ax.set_xlabel('Predicted Value')\n",
    "ax.set_ylabel('Actual Value')\n",
    "ax.xaxis.set_ticklabels(['Non 421a','421a'])\n",
    "ax.yaxis.set_ticklabels(['Non 421a','421a']);\n"
   ]
  },
  {
   "cell_type": "code",
   "execution_count": 46,
   "id": "1145afc7",
   "metadata": {},
   "outputs": [
    {
     "name": "stderr",
     "output_type": "stream",
     "text": [
      "/Users/Suzanne/opt/anaconda3/lib/python3.9/site-packages/seaborn/distributions.py:2619: FutureWarning: `distplot` is a deprecated function and will be removed in a future version. Please adapt your code to use either `displot` (a figure-level function with similar flexibility) or `histplot` (an axes-level function for histograms).\n",
      "  warnings.warn(msg, FutureWarning)\n"
     ]
    },
    {
     "data": {
      "image/png": "[encoded data removed]",
      "text/plain": [
       "<Figure size 864x360 with 1 Axes>"
      ]
     },
     "metadata": {
      "needs_background": "light"
     },
     "output_type": "display_data"
    }
   ],
   "source": [
    "# Evaluate relationship between specificity and sensitivity\n",
    "# Code from classification metrics lesson\n",
    "pred_df=pd.DataFrame({'true_values': y_test,\n",
    "                        'pred_probs': gb.predict_proba(X_test_sc)[:,1]})\n",
    "plt.figure(figsize = (12, 5))\n",
    "\n",
    "for group in pred_df.groupby('true_values'):\n",
    "    sns.distplot(group[1], kde = False, bins = 20, label = f'Actual Outcome = {group[0]}')\n",
    "plt.xlabel('Predicted Probability that Outcome = 1')\n",
    "plt.title('Probability for Each Outcome')\n",
    "plt.legend();"
   ]
  },
  {
   "cell_type": "code",
   "execution_count": 47,
   "id": "9caeee4b",
   "metadata": {},
   "outputs": [
    {
     "data": {
      "image/png": "[encoded data removed]",
      "text/plain": [
       "<Figure size 432x288 with 1 Axes>"
      ]
     },
     "metadata": {
      "needs_background": "light"
     },
     "output_type": "display_data"
    }
   ],
   "source": [
    "# Plot ROC Curve\n",
    "metrics.plot_roc_curve(gb,X_test_sc,y_test)\n",
    "plt.plot([0, 1], [0, 1],\n",
    "         label='baseline', linestyle='--')\n",
    "plt.title('ROC Curve')\n",
    "plt.legend();"
   ]
  },
  {
   "cell_type": "code",
   "execution_count": null,
   "id": "e93441f8",
   "metadata": {},
   "outputs": [],
   "source": []
  }
 ],
 "metadata": {
  "kernelspec": {
   "display_name": "Python 3 (ipykernel)",
   "language": "python",
   "name": "python3"
  },
  "language_info": {
   "codemirror_mode": {
    "name": "ipython",
    "version": 3
   },
   "file_extension": ".py",
   "mimetype": "text/x-python",
   "name": "python",
   "nbconvert_exporter": "python",
   "pygments_lexer": "ipython3",
   "version": "3.9.7"
  }
 },
 "nbformat": 4,
 "nbformat_minor": 5
}
